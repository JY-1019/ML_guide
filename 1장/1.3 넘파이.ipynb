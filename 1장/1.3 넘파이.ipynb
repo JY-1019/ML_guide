{
  "nbformat": 4,
  "nbformat_minor": 0,
  "metadata": {
    "colab": {
      "name": "1.3 넘파이.ipynb",
      "private_outputs": true,
      "provenance": [],
      "collapsed_sections": []
    },
    "kernelspec": {
      "name": "python3",
      "display_name": "Python 3"
    },
    "language_info": {
      "name": "python"
    }
  },
  "cells": [
    {
      "cell_type": "markdown",
      "metadata": {
        "id": "GWbvX9CBY-VM"
      },
      "source": [
        "# 넘파이 기초 테스트"
      ]
    },
    {
      "cell_type": "markdown",
      "metadata": {
        "id": "RRtSAFFfZKaT"
      },
      "source": [
        "** ndarray 생성 실습 **\n",
        "* ndarray.로 생성 \n",
        "* 다음테스트\n"
      ]
    },
    {
      "cell_type": "code",
      "metadata": {
        "id": "0Fn92aWkZRXy"
      },
      "source": [
        "import numpy as np\n",
        "import matplotlib.pyplot as plt\n",
        "%matplotlib inline\n",
        "\n",
        "array1 = np.array([1, 2, 3, 4])\n",
        "plt.hist(array1)"
      ],
      "execution_count": null,
      "outputs": []
    },
    {
      "cell_type": "markdown",
      "metadata": {
        "id": "QrM22ZP_f8WT"
      },
      "source": [
        "# Numpy ndarrat 개요"
      ]
    },
    {
      "cell_type": "markdown",
      "metadata": {
        "id": "zswxkKVSgq92"
      },
      "source": [
        "- ndarray 생성 np.array()"
      ]
    },
    {
      "cell_type": "code",
      "metadata": {
        "id": "HhWlEEXbhONV"
      },
      "source": [
        "import numpy as np"
      ],
      "execution_count": null,
      "outputs": []
    },
    {
      "cell_type": "code",
      "metadata": {
        "id": "boCFAkVkhZF_"
      },
      "source": [
        "list1 = [1, 2, 3]\n",
        "print(\"list1 : \", list1)\n",
        "print(\"list1 type : \",type(list1))\n",
        "\n",
        "array1 = np.array(list1)\n",
        "print('array1 : ', array1)\n",
        "print('array1 type :', type(array1))"
      ],
      "execution_count": null,
      "outputs": []
    },
    {
      "cell_type": "markdown",
      "metadata": {
        "id": "jltA1DxzhtzC"
      },
      "source": [
        "- ndarray 의 형태(shape)와 차원"
      ]
    },
    {
      "cell_type": "code",
      "metadata": {
        "id": "9VauRocBh4e1"
      },
      "source": [
        "array1 = np.array([1, 2, 3])\n",
        "print(type(array1))\n",
        "print(array1.shape)\n",
        "\n",
        "array2 = np.array([[1,2,3],\n",
        "                   [4,5,6]])\n",
        "print(type(array2))\n",
        "print(array2.shape)\n",
        "\n",
        "array3=np.array([[1,2,3]])\n",
        "print(type(array3))\n",
        "print(array3.shape)\n",
        "\n",
        "print('array1:{:0}차원, array2:{:1}차원, array3:{:2}차원'.format(array1.ndim, array2.ndim, array3.ndim))"
      ],
      "execution_count": null,
      "outputs": []
    },
    {
      "cell_type": "markdown",
      "metadata": {
        "id": "6jhgZLrckT7T"
      },
      "source": [
        "- ndarray 데이터 타입"
      ]
    },
    {
      "cell_type": "code",
      "metadata": {
        "id": "4zz0iV5Qk_5W"
      },
      "source": [
        "list1 = [1,2,3,4]\n",
        "print(type(list1))\n",
        "array1 = np.array(list1)\n",
        "\n",
        "print(type(array1))\n",
        "print(array1, array1.dtype)"
      ],
      "execution_count": null,
      "outputs": []
    },
    {
      "cell_type": "code",
      "metadata": {
        "id": "kn2pjJ0flRkl"
      },
      "source": [
        "list2 = [1, 2, 'test']\n",
        "array2 = np.array(list2)\n",
        "print(array2, array2.dtype) # 정수형이 모두 문자형으로 바뀜\n",
        "\n",
        "list3 = [1, 2, 3.0]\n",
        "array3 = np.array(list3)\n",
        "print(array3, array3.dtype) # 정수형이 모두 실수형으로 바뀜"
      ],
      "execution_count": null,
      "outputs": []
    },
    {
      "cell_type": "markdown",
      "metadata": {
        "id": "mto8kLw6mfci"
      },
      "source": [
        "- astype()을 통한 타입 변환"
      ]
    },
    {
      "cell_type": "code",
      "metadata": {
        "id": "VlKtgAgtmsta"
      },
      "source": [
        "array_int = np.array([1, 2, 3])\n",
        "array_float = array_int.astype('float64')\n",
        "print(array_float, array_float.dtype)\n",
        "\n",
        "array_int1 = array_float.astype('int32')\n",
        "print(array_int1, array_int1.dtype)\n",
        "\n",
        "array_float1 = np.array([1.1, 2.1, 3.1])\n",
        "array_int2 = array_float1.astype('int32')\n",
        "print(array_float1, array_float1.dtype)"
      ],
      "execution_count": null,
      "outputs": []
    },
    {
      "cell_type": "markdown",
      "metadata": {
        "id": "rHyQLIwBoD2Z"
      },
      "source": [
        "- ndarray에서 axis기반의 연산함수 수행"
      ]
    },
    {
      "cell_type": "code",
      "metadata": {
        "id": "Tso2CP7goR9B"
      },
      "source": [
        "array2 = np.array([[1,2,3],\n",
        "                   [4,5,6]])\n",
        "\n",
        "print(array2.sum())\n",
        "print(array2.sum(axis=0))\n",
        "print(array2.sum(axis=1))"
      ],
      "execution_count": null,
      "outputs": []
    },
    {
      "cell_type": "markdown",
      "metadata": {
        "id": "bjMO0JXYonI2"
      },
      "source": [
        "- ndarray를 편리하게 생성하기 - arnage, zeros, ones"
      ]
    },
    {
      "cell_type": "code",
      "metadata": {
        "id": "yDSb3oKyS4Sk"
      },
      "source": [
        "sequence_array = np.arange(10)\n",
        "print(sequence_array)\n",
        "print(sequence_array.dtype, sequence_array.shape)"
      ],
      "execution_count": null,
      "outputs": []
    },
    {
      "cell_type": "code",
      "metadata": {
        "id": "VhTTMVRmTEpd"
      },
      "source": [
        "zero_array = np.zeros((3,2), dtype = 'int32')\n",
        "print(zero_array)\n",
        "print(zero_array.dtype, zero_array.shape)\n",
        "\n",
        "one_array = np.ones((3,2))\n",
        "print(one_array)\n",
        "print(one_array.dtype, one_array.shape)"
      ],
      "execution_count": null,
      "outputs": []
    },
    {
      "cell_type": "markdown",
      "metadata": {
        "id": "97B7vWIwTxID"
      },
      "source": [
        "- ndarray의 shape를 변경하는 reshape()\n"
      ]
    },
    {
      "cell_type": "code",
      "metadata": {
        "id": "3yOXRwVOUxk9"
      },
      "source": [
        "array1 = np.arange(10)\n",
        "print('array1:\\n', array1)\n",
        "\n",
        "array2 = array1.reshape(2, 5)\n",
        "print('array2:\\n', array2)"
      ],
      "execution_count": null,
      "outputs": []
    },
    {
      "cell_type": "code",
      "metadata": {
        "id": "6qriGtlbVEmE"
      },
      "source": [
        "# 변환할 수 있는 shape구조를 입력하면 오류 발생.\n",
        "array1.reshape(4,3)"
      ],
      "execution_count": null,
      "outputs": []
    },
    {
      "cell_type": "markdown",
      "metadata": {
        "id": "FqssX9eSVdl0"
      },
      "source": [
        "- reshape()에 -1 인자값을 부여하여 특정 차원으로 고정된 가변적인 ndarray형태 반환"
      ]
    },
    {
      "cell_type": "code",
      "metadata": {
        "id": "Cm9AEJ1jVt_H"
      },
      "source": [
        "array1 = np.arange(10)\n",
        "print(array1)\n",
        "\n",
        "array2 = array1.reshape(5, -1)\n",
        "print('array2: shape:', array2.shape)\n",
        "print('array3:\\n', array2)"
      ],
      "execution_count": null,
      "outputs": []
    },
    {
      "cell_type": "code",
      "metadata": {
        "id": "NqDeW_BSWJh9"
      },
      "source": [
        "# reshape(-1, 1) 은 2차원으로 변환하는 것 \n",
        "# reshape(-1,) 은 1차원으로 변환하는 것"
      ],
      "execution_count": null,
      "outputs": []
    },
    {
      "cell_type": "code",
      "metadata": {
        "id": "EFvZfeMqWiI8"
      },
      "source": [
        "array1.reshape(-1, -1) # 오류발생"
      ],
      "execution_count": null,
      "outputs": []
    },
    {
      "cell_type": "markdown",
      "metadata": {
        "id": "gKZKIkJNWy7e"
      },
      "source": [
        "**Indexing**\n",
        "- 특정 위치의 단일값 추출\n",
        "- 슬라이싱\n",
        "- 팬시 인덱싱\n",
        "- 불린 인덱싱"
      ]
    },
    {
      "cell_type": "markdown",
      "metadata": {
        "id": "3vjXAhe9b3Lg"
      },
      "source": [
        "- 특정 위치의 단일값 추출\n"
      ]
    },
    {
      "cell_type": "code",
      "metadata": {
        "id": "wJu1Ru9hlHrf"
      },
      "source": [
        "import numpy as np"
      ],
      "execution_count": null,
      "outputs": []
    },
    {
      "cell_type": "code",
      "metadata": {
        "id": "FewHBCMMky-a"
      },
      "source": [
        "array1 = np.arange(start=1, stop = 10)\n",
        "print('array1:', array1)\n",
        "\n",
        "value = array1[2]\n",
        "print(value)\n",
        "print(type(value))\n"
      ],
      "execution_count": null,
      "outputs": []
    },
    {
      "cell_type": "code",
      "metadata": {
        "id": "JdUqdf8ylCkf"
      },
      "source": [
        "print('맨 뒤의 값', array1[-1], ' 맨 뒤에서 두번째 값:',  array1[-2])"
      ],
      "execution_count": null,
      "outputs": []
    },
    {
      "cell_type": "code",
      "metadata": {
        "id": "-G_B3yzoldUf"
      },
      "source": [
        "array1[0] = 9\n",
        "array1[8] = 0\n",
        "print(array1)"
      ],
      "execution_count": null,
      "outputs": []
    },
    {
      "cell_type": "code",
      "metadata": {
        "id": "I2XYoQjPli53"
      },
      "source": [
        "array1d = np.arange(start = 1 , stop = 10)\n",
        "array2d = array1d.reshape(3, 3)\n",
        "print(array2d)"
      ],
      "execution_count": null,
      "outputs": []
    },
    {
      "cell_type": "markdown",
      "metadata": {
        "id": "a5JRBZQEl51-"
      },
      "source": [
        "- 슬라이싱"
      ]
    },
    {
      "cell_type": "markdown",
      "metadata": {
        "id": "ceVd7OISmLOY"
      },
      "source": [
        "- 팬시 인덱싱"
      ]
    },
    {
      "cell_type": "markdown",
      "metadata": {
        "id": "OGabIFaGmT1b"
      },
      "source": [
        "- 불린 인덱싱"
      ]
    },
    {
      "cell_type": "markdown",
      "metadata": {
        "id": "PZWoTQ1WmU7q"
      },
      "source": [
        "*** 행렬의 정렬 - sort()와 argsort()\n",
        "- 행렬 정렬"
      ]
    },
    {
      "cell_type": "code",
      "metadata": {
        "id": "reHe8jUobfEf"
      },
      "source": [
        "org_array = np.array([3, 1, 9, 5])\n",
        "sort_array1 = np.sort(org_array)\n",
        "print(sort_array1)\n",
        "print(org_array)\n",
        "\n",
        "\n",
        "# ndarray.sort() 원 행렬 자체를 정렬한 현태로 변환하며 반환 값은 None\n",
        "\n",
        "sort_array2 = org_array.sort()\n",
        "org_array.sort()\n",
        "print(sort_array2)\n",
        "print(org_array)"
      ],
      "execution_count": null,
      "outputs": []
    },
    {
      "cell_type": "code",
      "metadata": {
        "id": "jk7zaEbGctX9"
      },
      "source": [
        "sort_array1_desc = np.sort(org_array)[::-1]\n",
        "print(sort_array1_desc)"
      ],
      "execution_count": null,
      "outputs": []
    },
    {
      "cell_type": "code",
      "metadata": {
        "id": "CVfZTgKWdqSs"
      },
      "source": [
        "array2d = np.array([[8, 12],\n",
        "                   [7, 1]])\n",
        "sort_array2d_axis0 = np.sort(array2d, axis = 0)\n",
        "print('로우 방향으로 정렬:\\n', sort_array2d_axis0)\n",
        "\n",
        "sort_array2d_axis1 = np.sort(array2d, axis = 1)\n",
        "print('컬럼 방향으로 정렬:\\n', sort_array2d_axis1)"
      ],
      "execution_count": null,
      "outputs": []
    },
    {
      "cell_type": "markdown",
      "metadata": {
        "id": "8loN8Jm5lRGm"
      },
      "source": [
        "- argsort"
      ]
    },
    {
      "cell_type": "code",
      "metadata": {
        "id": "1tucoD_Arxxs"
      },
      "source": [
        "import numpy as np"
      ],
      "execution_count": null,
      "outputs": []
    },
    {
      "cell_type": "code",
      "metadata": {
        "id": "Q_4JvvvWrMWE"
      },
      "source": [
        "org_array = np.array([3, 1, 9, 5])\n",
        "print(np.sort(org_array))\n",
        "sort_indices = np.argsort(org_array)\n",
        "print(sort_indices)"
      ],
      "execution_count": null,
      "outputs": []
    },
    {
      "cell_type": "code",
      "metadata": {
        "id": "N2B7dgLtrsnn"
      },
      "source": [
        "org_array = np.array([3, 1, 9, 5])\n",
        "print(np.sort(org_array)[::-1])\n",
        "sort_indices_desc = np.argsort(org_array)[::-1]\n",
        "print(sort_indices_desc)"
      ],
      "execution_count": null,
      "outputs": []
    },
    {
      "cell_type": "markdown",
      "metadata": {
        "id": "mAu_jVvCsXdj"
      },
      "source": [
        "- key value 형태의 데이터를 argsort를 사용하여 key값을 정렬"
      ]
    },
    {
      "cell_type": "code",
      "metadata": {
        "id": "GNHsQy57tPNt"
      },
      "source": [
        "name_array = np.array(['John', 'Mike', 'Sarah', 'Kate', 'Samuel'])\n",
        "score_array = np.array([78, 95, 84, 98, 88])\n",
        "\n",
        "sort_indices = np.argsort(score_array)\n",
        "print('sort_indices:',sort_indices)\n",
        "\n",
        "name_array_sort = name_array[sort_indices]\n",
        "score_array_sort = score_array[sort_indices]\n",
        "print(name_array_sort)\n",
        "print(score_array_sort)"
      ],
      "execution_count": null,
      "outputs": []
    },
    {
      "cell_type": "markdown",
      "metadata": {
        "id": "zZLfj2ajt_W2"
      },
      "source": [
        "*** 선형대수 연산 - 행렬내적과 전치 행렬 구하기 ***\n",
        "* 행렬내적"
      ]
    },
    {
      "cell_type": "code",
      "metadata": {
        "id": "nuJLZlhcvEdu"
      },
      "source": [
        "A = np.array([[1, 2, 3],\n",
        "              [4, 5, 6]])\n",
        "B = np.array([[7,8],\n",
        "              [9, 10],\n",
        "              [11, 12]])\n",
        "\n",
        "dot_product = np.dot(A, B)\n",
        "print('행렬 내적 결과:\\n', dot_product)\n"
      ],
      "execution_count": null,
      "outputs": []
    },
    {
      "cell_type": "markdown",
      "metadata": {
        "id": "QEv8wxzXviVo"
      },
      "source": [
        "- 전치 행렬"
      ]
    },
    {
      "cell_type": "code",
      "metadata": {
        "id": "tMFInTnpvmXz"
      },
      "source": [
        "A = np.array([[1, 2],\n",
        "              [3, 4]])\n",
        "transpose_mat = np.transpose(A)\n",
        "print('A의 전치 행렬:\\n', transpose_mat)"
      ],
      "execution_count": null,
      "outputs": []
    },
    {
      "cell_type": "code",
      "metadata": {
        "id": "ddDjby_uvzQD"
      },
      "source": [
        ""
      ],
      "execution_count": null,
      "outputs": []
    }
  ]
}