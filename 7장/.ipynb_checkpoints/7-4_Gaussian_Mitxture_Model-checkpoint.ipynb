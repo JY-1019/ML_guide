{
 "cells": [
  {
   "cell_type": "markdown",
   "id": "be26d936",
   "metadata": {},
   "source": [
    "# GMM을 이용한 붓꽃 데이터 셋 클러스터링"
   ]
  },
  {
   "cell_type": "code",
   "execution_count": 8,
   "id": "4ad73d53",
   "metadata": {
    "ExecuteTime": {
     "end_time": "2021-08-17T18:06:57.037815Z",
     "start_time": "2021-08-17T18:06:57.022009Z"
    }
   },
   "outputs": [],
   "source": [
    "from sklearn.datasets import load_iris\n",
    "from sklearn.cluster import KMeans\n",
    "\n",
    "import matplotlib.pyplot as plt\n",
    "import numpy as np\n",
    "import pandas as pd\n",
    "%matplotlib inline\n",
    "\n",
    "iris = load_iris()\n",
    "feature_names = ['sepal_length', 'sepal_width', 'petal_length', 'petal_width']\n",
    "\n",
    "irisDF = pd.DataFrame(data = iris.data, columns = feature_names)\n",
    "irisDF['target'] = iris.target"
   ]
  },
  {
   "cell_type": "markdown",
   "id": "60f0df85",
   "metadata": {},
   "source": [
    "GaussianMixture를 이용하여 붓꽃 데이터 군집화"
   ]
  },
  {
   "cell_type": "code",
   "execution_count": 9,
   "id": "6e7d12a4",
   "metadata": {
    "ExecuteTime": {
     "end_time": "2021-08-17T18:06:57.328160Z",
     "start_time": "2021-08-17T18:06:57.303351Z"
    }
   },
   "outputs": [
    {
     "name": "stdout",
     "output_type": "stream",
     "text": [
      "target  gmm_cluster\n",
      "0       0              50\n",
      "1       2              45\n",
      "        1               5\n",
      "2       1              50\n",
      "Name: gmm_cluster, dtype: int64\n"
     ]
    }
   ],
   "source": [
    "from sklearn.mixture import GaussianMixture\n",
    "gmm = GaussianMixture(n_components = 3, random_state = 0).fit(iris.data)\n",
    "gmm_cluster_labels = gmm.predict(iris.data)\n",
    "\n",
    "irisDF['gmm_cluster'] = gmm_cluster_labels\n",
    "\n",
    "iris_result = irisDF.groupby(['target'])['gmm_cluster'].value_counts()\n",
    "print(iris_result)"
   ]
  },
  {
   "cell_type": "markdown",
   "id": "b002b8b0",
   "metadata": {},
   "source": [
    "붓꽃 데이터 k-means 군집화 결과"
   ]
  },
  {
   "cell_type": "code",
   "execution_count": 10,
   "id": "bfbe37c0",
   "metadata": {
    "ExecuteTime": {
     "end_time": "2021-08-17T18:06:57.561867Z",
     "start_time": "2021-08-17T18:06:57.557977Z"
    }
   },
   "outputs": [
    {
     "data": {
      "text/plain": [
       "array(['setosa', 'versicolor', 'virginica'], dtype='<U10')"
      ]
     },
     "execution_count": 10,
     "metadata": {},
     "output_type": "execute_result"
    }
   ],
   "source": [
    "iris.target_names"
   ]
  },
  {
   "cell_type": "code",
   "execution_count": 15,
   "id": "3575a464",
   "metadata": {
    "ExecuteTime": {
     "end_time": "2021-08-17T18:07:42.276789Z",
     "start_time": "2021-08-17T18:07:42.245713Z"
    }
   },
   "outputs": [
    {
     "name": "stdout",
     "output_type": "stream",
     "text": [
      "target  kmeans_cluster\n",
      "0       1                 50\n",
      "1       0                 48\n",
      "        2                  2\n",
      "2       2                 36\n",
      "        0                 14\n",
      "Name: kmeans_cluster, dtype: int64\n"
     ]
    }
   ],
   "source": [
    "kmeans = KMeans(n_clusters = 3, init ='k-means++', max_iter = 300, random_state=0).fit(iris.data)\n",
    "kmeans_cluster_labels = kmeans.predict(iris.data)\n",
    "irisDF['kmeans_cluster'] = kmeans_cluster_labels\n",
    "iris_result = irisDF.groupby(['target'])['kmeans_cluster'].value_counts()\n",
    "print(iris_result)"
   ]
  },
  {
   "cell_type": "markdown",
   "id": "22ed100b",
   "metadata": {},
   "source": [
    "클러스터링 결과를 시각화하는 함수 생성"
   ]
  },
  {
   "cell_type": "code",
   "execution_count": 35,
   "id": "f31280f6",
   "metadata": {
    "ExecuteTime": {
     "end_time": "2021-08-17T18:47:48.945258Z",
     "start_time": "2021-08-17T18:47:48.938873Z"
    }
   },
   "outputs": [],
   "source": [
    "def visualize_cluster_plot(clusterobj, dataframe, label_name, iscenter=True):\n",
    "    if iscenter:\n",
    "        centers = clusterobj.cluster_centers_\n",
    "        \n",
    "    unique_labels = np.unique(dataframe[label_name].values)\n",
    "    markers = ['o', 's', '^', 'x', '*']\n",
    "    isNoise = False\n",
    "    for label in unique_labels:\n",
    "        label_cluster = dataframe[dataframe[label_name] == label]\n",
    "        if label == -1:\n",
    "            cluster_legend = 'Noise'\n",
    "            isNoise = True\n",
    "        else:\n",
    "            cluster_legend = 'Cluster' + str(label)\n",
    "        \n",
    "        plt.scatter(x = label_cluster['ftr1'], y =label_cluster['ftr2'], s=70,\n",
    "                   edgecolor = 'k', marker = markers[label], label = cluster_legend)\n",
    "        if iscenter:\n",
    "            center_x_y = centers[label]\n",
    "            plt.scatter(x = center_x_y[0], y=center_x_y[1], s = 250, color='white',\n",
    "                       alpha = 0.8, edgecolor = 'k', marker = markers[label])\n",
    "            plt.scatter(x=center_x_y[0], y=center_x_y[1], s=70, color='k',\n",
    "                      edgecolor='k', marker='$%d$' % label)\n",
    "    if isNoise:\n",
    "        legend_loc = 'upper center'\n",
    "    else: legend_loc = 'upper right'\n",
    "    plt.legend(loc=legend_loc)\n",
    "    plt.show()"
   ]
  },
  {
   "cell_type": "markdown",
   "id": "a96e4c88",
   "metadata": {},
   "source": [
    "GMM 군집화와 k-means군집화를 비교하기 위해 타원형으로 늘어선 임의의 데이터 세트를 생성"
   ]
  },
  {
   "cell_type": "code",
   "execution_count": 36,
   "id": "f09a433e",
   "metadata": {
    "ExecuteTime": {
     "end_time": "2021-08-17T18:47:49.847091Z",
     "start_time": "2021-08-17T18:47:49.688313Z"
    }
   },
   "outputs": [
    {
     "data": {
      "image/png": "[encoded data removed]",
      "text/plain": [
       "<Figure size 432x288 with 1 Axes>"
      ]
     },
     "metadata": {
      "needs_background": "light"
     },
     "output_type": "display_data"
    }
   ],
   "source": [
    "from sklearn.datasets import make_blobs\n",
    "\n",
    "X, y = make_blobs(n_samples = 300, n_features=2, centers=3, cluster_std=0.5,\n",
    "                 random_state=0)\n",
    "\n",
    "transformation = [[0.60834549, -0.63667341], [-0.40887718, 0.85253229]]\n",
    "X_aniso = np.dot(X, transformation)\n",
    "# feature 데이터 셋과 make_blobs()의 y 결과 값을 datagrame으로 저장\n",
    "clusterDF = pd.DataFrame(data=X_aniso, columns=['ftr1', 'ftr2'])\n",
    "clusterDF['target'] = y\n",
    "visualize_cluster_plot(None,clusterDF,'target',iscenter=False)"
   ]
  },
  {
   "cell_type": "markdown",
   "id": "054743fd",
   "metadata": {},
   "source": [
    "kmeans 군집화 수행"
   ]
  },
  {
   "cell_type": "code",
   "execution_count": 37,
   "id": "c779eb84",
   "metadata": {
    "ExecuteTime": {
     "end_time": "2021-08-17T18:47:50.539861Z",
     "start_time": "2021-08-17T18:47:50.333169Z"
    }
   },
   "outputs": [
    {
     "data": {
      "image/png": "[encoded data removed]",
      "text/plain": [
       "<Figure size 432x288 with 1 Axes>"
      ]
     },
     "metadata": {
      "needs_background": "light"
     },
     "output_type": "display_data"
    }
   ],
   "source": [
    "# 3 개의 cluster 기반 kmeans를 x_aniso 데이터 셋에 적용\n",
    "kmeans = KMeans(3, random_state=0)\n",
    "kmeans_label = kmeans.fit_predict(X_aniso)\n",
    "clusterDF['kmeans_label'] = kmeans_label\n",
    "\n",
    "visualize_cluster_plot(kmeans, clusterDF, 'kmeans_label', iscenter=True)\n"
   ]
  },
  {
   "cell_type": "markdown",
   "id": "962e281d",
   "metadata": {},
   "source": [
    "GMM 군집화 수행"
   ]
  },
  {
   "cell_type": "code",
   "execution_count": 38,
   "id": "d04f6150",
   "metadata": {
    "ExecuteTime": {
     "end_time": "2021-08-17T18:51:41.857137Z",
     "start_time": "2021-08-17T18:51:41.683877Z"
    }
   },
   "outputs": [
    {
     "data": {
      "image/png": "[encoded data removed]",
      "text/plain": [
       "<Figure size 432x288 with 1 Axes>"
      ]
     },
     "metadata": {
      "needs_background": "light"
     },
     "output_type": "display_data"
    }
   ],
   "source": [
    "gmm = GaussianMixture(n_components=3, random_state=0)\n",
    "gmm_label = gmm.fit(X_aniso).predict(X_aniso)\n",
    "clusterDF['gmm_label'] = gmm_label\n",
    "\n",
    "# GaussianMixture는 cluster_centers_ 속성이 없으므로 iscenter를 false 로 설정\n",
    "visualize_cluster_plot(gmm, clusterDF, 'gmm_label', iscenter = False)"
   ]
  },
  {
   "cell_type": "markdown",
   "id": "2fb97699",
   "metadata": {},
   "source": [
    "GMM과 K-means 군집화 결과 비교"
   ]
  },
  {
   "cell_type": "code",
   "execution_count": 39,
   "id": "3d4f8cd8",
   "metadata": {
    "ExecuteTime": {
     "end_time": "2021-08-17T18:53:40.389259Z",
     "start_time": "2021-08-17T18:53:40.381778Z"
    }
   },
   "outputs": [
    {
     "name": "stdout",
     "output_type": "stream",
     "text": [
      "### KMeans Clustering ###\n",
      "target  kmeans_label\n",
      "0       2                73\n",
      "        0                27\n",
      "1       1               100\n",
      "2       0                86\n",
      "        2                14\n",
      "Name: kmeans_label, dtype: int64\n",
      "n/### Gaussian Mixture Clustering ###\n",
      "target  gmm_label\n",
      "0       2            100\n",
      "1       1            100\n",
      "2       0            100\n",
      "Name: gmm_label, dtype: int64\n"
     ]
    }
   ],
   "source": [
    "print('### KMeans Clustering ###')\n",
    "print(clusterDF.groupby('target')['kmeans_label'].value_counts())\n",
    "print('n/### Gaussian Mixture Clustering ###')\n",
    "print(clusterDF.groupby('target')['gmm_label'].value_counts())"
   ]
  },
  {
   "cell_type": "code",
   "execution_count": null,
   "id": "1106c05a",
   "metadata": {},
   "outputs": [],
   "source": []
  }
 ],
 "metadata": {
  "kernelspec": {
   "display_name": "Python 3",
   "language": "python",
   "name": "python3"
  },
  "language_info": {
   "codemirror_mode": {
    "name": "ipython",
    "version": 3
   },
   "file_extension": ".py",
   "mimetype": "text/x-python",
   "name": "python",
   "nbconvert_exporter": "python",
   "pygments_lexer": "ipython3",
   "version": "3.8.8"
  },
  "toc": {
   "base_numbering": 1,
   "nav_menu": {},
   "number_sections": true,
   "sideBar": true,
   "skip_h1_title": false,
   "title_cell": "Table of Contents",
   "title_sidebar": "Contents",
   "toc_cell": false,
   "toc_position": {},
   "toc_section_display": true,
   "toc_window_display": false
  }
 },
 "nbformat": 4,
 "nbformat_minor": 5
}
