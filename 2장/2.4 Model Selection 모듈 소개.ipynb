{
 "cells": [
  {
   "cell_type": "markdown",
   "id": "73a2cdf3",
   "metadata": {},
   "source": [
    "# 교차 검증\n",
    "- cross_val_score()\n",
    "- kfold를 단순화 시킨다고 생각하면 됨"
   ]
  },
  {
   "cell_type": "code",
   "execution_count": 6,
   "id": "bf9fa027",
   "metadata": {
    "ExecuteTime": {
     "end_time": "2021-06-16T08:16:34.782929Z",
     "start_time": "2021-06-16T08:16:34.767419Z"
    }
   },
   "outputs": [],
   "source": [
    "from sklearn.tree import DecisionTreeClassifier\n",
    "from sklearn.model_selection import cross_val_score, cross_validate\n",
    "from sklearn.datasets import load_iris\n",
    "import numpy as np \n",
    "\n",
    "iris_data = load_iris()\n",
    "dt_clf = DecisionTreeClassifier(random_state=156)\n",
    "\n",
    "data = iris_data.data\n",
    "label = iris_data.target\n",
    "\n",
    "# 성능 지표는 정확도(accuracy), 교차 검증 세트는 3개\n",
    "scores = cross_val_score(dt_clf, data, label, \n",
    "                         scoring = 'accuracy', cv=3)\n",
    "\n",
    "# cross_val_score() 에서 회귀일때는 KFold(회귀에서는 StratifiedKFold를 적용할 수가 없다)\n",
    "# 분류일때는 자동으로 StratifiedKFold로 자동적으로 적용이 됨"
   ]
  },
  {
   "cell_type": "markdown",
   "id": "08c356b7",
   "metadata": {},
   "source": [
    "- GridSearchCV\n",
    "- for 구문으로 돌리는 것보다 더 이득임"
   ]
  },
  {
   "cell_type": "code",
   "execution_count": 7,
   "id": "02661909",
   "metadata": {
    "ExecuteTime": {
     "end_time": "2021-06-16T08:16:36.223216Z",
     "start_time": "2021-06-16T08:16:36.216467Z"
    }
   },
   "outputs": [],
   "source": [
    "from sklearn.datasets import load_iris\n",
    "from sklearn.tree import DecisionTreeClassifier\n",
    "from sklearn.model_selection import GridSearchCV, train_test_split\n",
    "from sklearn.metrics import accuracy_score\n",
    "\n",
    "iris = load_iris()\n",
    "X_train, X_test, y_train, y_test = train_test_split(iris.data,\n",
    "                                                   iris.target,\n",
    "                                                   test_size = 0.3,\n",
    "                                                   random_state=121)\n",
    "\n",
    "dtree = DecisionTreeClassifier()\n",
    "\n",
    "parameters = {'max_depth':[1,2,3], 'min_samples_split':[2,3]}"
   ]
  },
  {
   "cell_type": "code",
   "execution_count": 10,
   "id": "77b9ff31",
   "metadata": {
    "ExecuteTime": {
     "end_time": "2021-06-16T08:43:24.674309Z",
     "start_time": "2021-06-16T08:43:24.621991Z"
    }
   },
   "outputs": [
    {
     "data": {
      "text/html": [
       "<div>\n",
       "<style scoped>\n",
       "    .dataframe tbody tr th:only-of-type {\n",
       "        vertical-align: middle;\n",
       "    }\n",
       "\n",
       "    .dataframe tbody tr th {\n",
       "        vertical-align: top;\n",
       "    }\n",
       "\n",
       "    .dataframe thead th {\n",
       "        text-align: right;\n",
       "    }\n",
       "</style>\n",
       "<table border=\"1\" class=\"dataframe\">\n",
       "  <thead>\n",
       "    <tr style=\"text-align: right;\">\n",
       "      <th></th>\n",
       "      <th>params</th>\n",
       "      <th>mean_test_score</th>\n",
       "      <th>rank_test_score</th>\n",
       "      <th>split0_test_score</th>\n",
       "      <th>split1_test_score</th>\n",
       "      <th>split2_test_score</th>\n",
       "    </tr>\n",
       "  </thead>\n",
       "  <tbody>\n",
       "    <tr>\n",
       "      <th>0</th>\n",
       "      <td>{'max_depth': 1, 'min_samples_split': 2}</td>\n",
       "      <td>0.657143</td>\n",
       "      <td>5</td>\n",
       "      <td>0.657143</td>\n",
       "      <td>0.657143</td>\n",
       "      <td>0.657143</td>\n",
       "    </tr>\n",
       "    <tr>\n",
       "      <th>1</th>\n",
       "      <td>{'max_depth': 1, 'min_samples_split': 3}</td>\n",
       "      <td>0.657143</td>\n",
       "      <td>5</td>\n",
       "      <td>0.657143</td>\n",
       "      <td>0.657143</td>\n",
       "      <td>0.657143</td>\n",
       "    </tr>\n",
       "    <tr>\n",
       "      <th>2</th>\n",
       "      <td>{'max_depth': 2, 'min_samples_split': 2}</td>\n",
       "      <td>0.933333</td>\n",
       "      <td>3</td>\n",
       "      <td>0.942857</td>\n",
       "      <td>0.914286</td>\n",
       "      <td>0.942857</td>\n",
       "    </tr>\n",
       "    <tr>\n",
       "      <th>3</th>\n",
       "      <td>{'max_depth': 2, 'min_samples_split': 3}</td>\n",
       "      <td>0.933333</td>\n",
       "      <td>3</td>\n",
       "      <td>0.942857</td>\n",
       "      <td>0.914286</td>\n",
       "      <td>0.942857</td>\n",
       "    </tr>\n",
       "    <tr>\n",
       "      <th>4</th>\n",
       "      <td>{'max_depth': 3, 'min_samples_split': 2}</td>\n",
       "      <td>0.942857</td>\n",
       "      <td>1</td>\n",
       "      <td>0.971429</td>\n",
       "      <td>0.914286</td>\n",
       "      <td>0.942857</td>\n",
       "    </tr>\n",
       "    <tr>\n",
       "      <th>5</th>\n",
       "      <td>{'max_depth': 3, 'min_samples_split': 3}</td>\n",
       "      <td>0.942857</td>\n",
       "      <td>1</td>\n",
       "      <td>0.971429</td>\n",
       "      <td>0.914286</td>\n",
       "      <td>0.942857</td>\n",
       "    </tr>\n",
       "  </tbody>\n",
       "</table>\n",
       "</div>"
      ],
      "text/plain": [
       "                                     params  mean_test_score  rank_test_score  \\\n",
       "0  {'max_depth': 1, 'min_samples_split': 2}         0.657143                5   \n",
       "1  {'max_depth': 1, 'min_samples_split': 3}         0.657143                5   \n",
       "2  {'max_depth': 2, 'min_samples_split': 2}         0.933333                3   \n",
       "3  {'max_depth': 2, 'min_samples_split': 3}         0.933333                3   \n",
       "4  {'max_depth': 3, 'min_samples_split': 2}         0.942857                1   \n",
       "5  {'max_depth': 3, 'min_samples_split': 3}         0.942857                1   \n",
       "\n",
       "   split0_test_score  split1_test_score  split2_test_score  \n",
       "0           0.657143           0.657143           0.657143  \n",
       "1           0.657143           0.657143           0.657143  \n",
       "2           0.942857           0.914286           0.942857  \n",
       "3           0.942857           0.914286           0.942857  \n",
       "4           0.971429           0.914286           0.942857  \n",
       "5           0.971429           0.914286           0.942857  "
      ]
     },
     "execution_count": 10,
     "metadata": {},
     "output_type": "execute_result"
    }
   ],
   "source": [
    "import pandas as pd \n",
    "\n",
    "grid_dtree = GridSearchCV(dtree, param_grid=parameters, cv=3, \n",
    "                          refit=True, return_train_score=True)\n",
    "\n",
    "# 저절로 GridSearchCV를 통해 하이퍼 파라미터들을 순차적으로 학습 / 평가 함\n",
    "grid_dtree.fit(X_train, y_train)\n",
    "\n",
    "# GridSearchCV 결과는  cv_results_라는 딕셔너리로 저장됨.\n",
    "scores_df = pd.DataFrame(grid_dtree.cv_results_)\n",
    "scores_df[['params', 'mean_test_score','rank_test_score',\n",
    "          'split0_test_score', 'split1_test_score', 'split2_test_score']]\n"
   ]
  },
  {
   "cell_type": "code",
   "execution_count": 14,
   "id": "8ac0111e",
   "metadata": {
    "ExecuteTime": {
     "end_time": "2021-06-16T11:09:28.680189Z",
     "start_time": "2021-06-16T11:09:28.677867Z"
    }
   },
   "outputs": [],
   "source": [
    "# grid_dtree.cv_results_"
   ]
  },
  {
   "cell_type": "code",
   "execution_count": 13,
   "id": "e99a5c50",
   "metadata": {
    "ExecuteTime": {
     "end_time": "2021-06-16T11:09:04.880527Z",
     "start_time": "2021-06-16T11:09:04.875774Z"
    }
   },
   "outputs": [
    {
     "name": "stdout",
     "output_type": "stream",
     "text": [
      "최적 파라미터 {'max_depth': 3, 'min_samples_split': 2}\n",
      "최고 정확도 0.9428571428571427\n",
      "테스트 데이터 세트 정확도: 0.9556\n"
     ]
    }
   ],
   "source": [
    "print('최적 파라미터', grid_dtree.best_params_)\n",
    "print('최고 정확도', grid_dtree.best_score_)\n",
    "\n",
    "# refit = True 로 설정된 GridSearchCV 객체가 fit()을 수행 시 학습이 완료된\n",
    "# Estimator를 내포하고 있으므로 predict()를 통해 예측도 가능하다.\n",
    "# refit = True를 하면 다시 grid_dtree.fit(x_train, y_train)를 \n",
    "# 다시 할 필요가 없는것이다\n",
    "\n",
    "pred = grid_dtree.predict(X_test)\n",
    "print('테스트 데이터 세트 정확도: {0:.4f}'\n",
    "      .format(accuracy_score(y_test,pred)))"
   ]
  },
  {
   "cell_type": "code",
   "execution_count": 16,
   "id": "2d61f5fc",
   "metadata": {
    "ExecuteTime": {
     "end_time": "2021-06-17T08:04:09.543505Z",
     "start_time": "2021-06-17T08:04:09.470564Z"
    }
   },
   "outputs": [
    {
     "name": "stdout",
     "output_type": "stream",
     "text": [
      "테스트 데이터 세트 정확도 : 0.9556\n"
     ]
    }
   ],
   "source": [
    "# GridSearchCV 의 refit으로 인해 이미 학습이 된 estimator 반환\n",
    "estimator = grid_dtree.best_estimator_\n",
    "\n",
    "# GridSearchCV의 best_parametor_는 이미 최적 하이퍼 파라미터로 학습이 되어 있음.\n",
    "pred = estimator.predict(X_test)\n",
    "print('테스트 데이터 세트 정확도 : {0:.4f}'.format(accuracy_score(y_test, pred)))\n"
   ]
  },
  {
   "cell_type": "code",
   "execution_count": null,
   "id": "86a3d278",
   "metadata": {},
   "outputs": [],
   "source": []
  }
 ],
 "metadata": {
  "kernelspec": {
   "display_name": "Python 3",
   "language": "python",
   "name": "python3"
  },
  "language_info": {
   "codemirror_mode": {
    "name": "ipython",
    "version": 3
   },
   "file_extension": ".py",
   "mimetype": "text/x-python",
   "name": "python",
   "nbconvert_exporter": "python",
   "pygments_lexer": "ipython3",
   "version": "3.8.8"
  },
  "toc": {
   "base_numbering": 1,
   "nav_menu": {},
   "number_sections": true,
   "sideBar": true,
   "skip_h1_title": false,
   "title_cell": "Table of Contents",
   "title_sidebar": "Contents",
   "toc_cell": false,
   "toc_position": {},
   "toc_section_display": true,
   "toc_window_display": false
  }
 },
 "nbformat": 4,
 "nbformat_minor": 5
}
