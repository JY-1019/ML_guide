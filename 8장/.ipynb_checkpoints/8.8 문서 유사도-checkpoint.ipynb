{
 "cells": [
  {
   "cell_type": "markdown",
   "id": "a22b6615",
   "metadata": {},
   "source": [
    "# 문사 유사도 측정 방법 - 코사인 유사도"
   ]
  },
  {
   "cell_type": "markdown",
   "id": "208a85b1",
   "metadata": {},
   "source": [
    "코사인 유사도 반환 함수 생성"
   ]
  },
  {
   "cell_type": "code",
   "execution_count": 8,
   "id": "c908a145",
   "metadata": {
    "ExecuteTime": {
     "end_time": "2021-08-28T17:55:00.779903Z",
     "start_time": "2021-08-28T17:55:00.776388Z"
    }
   },
   "outputs": [],
   "source": [
    "import numpy as np\n",
    "\n",
    "def cos_similarity(v1, v2):\n",
    "    dot_product = np.dot(v1, v2)\n",
    "    l2_norm = (np.sqrt(sum(np.square(v1))))*np.sqrt(sum(np.square(v2)))\n",
    "    similarity = dot_product / l2_norm\n",
    "    \n",
    "    return similarity"
   ]
  },
  {
   "cell_type": "markdown",
   "id": "e99929b7",
   "metadata": {},
   "source": [
    "TF-IDF 벡터화 후 코사인 유사도 비교"
   ]
  },
  {
   "cell_type": "code",
   "execution_count": 9,
   "id": "76cb3686",
   "metadata": {
    "ExecuteTime": {
     "end_time": "2021-08-28T17:55:01.889025Z",
     "start_time": "2021-08-28T17:55:01.883807Z"
    }
   },
   "outputs": [
    {
     "name": "stdout",
     "output_type": "stream",
     "text": [
      "(3, 18)\n"
     ]
    }
   ],
   "source": [
    "from sklearn.feature_extraction.text import TfidfVectorizer\n",
    "\n",
    "doc_list = ['if you take the blue pill, the story ends' ,\n",
    "            'if you take the red pill, you stay in Wonderland',\n",
    "            'if you take the red pill, I show you how deep the rabbit hole goes']\n",
    "\n",
    "tfidf_vect_simple = TfidfVectorizer()\n",
    "feature_vect_simple = tfidf_vect_simple.fit_transform(doc_list)\n",
    "print(feature_vect_simple.shape)"
   ]
  },
  {
   "cell_type": "code",
   "execution_count": 10,
   "id": "72c14740",
   "metadata": {
    "ExecuteTime": {
     "end_time": "2021-08-28T17:55:03.110871Z",
     "start_time": "2021-08-28T17:55:03.108041Z"
    }
   },
   "outputs": [
    {
     "name": "stdout",
     "output_type": "stream",
     "text": [
      "<class 'scipy.sparse.csr.csr_matrix'>\n"
     ]
    }
   ],
   "source": [
    "print(type(feature_vect_simple))"
   ]
  },
  {
   "cell_type": "code",
   "execution_count": 14,
   "id": "fd930990",
   "metadata": {
    "ExecuteTime": {
     "end_time": "2021-08-28T17:56:37.320289Z",
     "start_time": "2021-08-28T17:56:37.315742Z"
    }
   },
   "outputs": [
    {
     "name": "stdout",
     "output_type": "stream",
     "text": [
      "문장 1, 문장 2 Cosine 유사도: 0.402\n"
     ]
    }
   ],
   "source": [
    "# TFidfVectorizer로 transform()한 결과는 Sparse Matrix이므로 Dense Matrix로 변환\n",
    "# 희소행렬인 csr을 바꿔줌.\n",
    "feature_vect_dense = feature_vect_simple.todense()\n",
    "\n",
    "# 첫번쨰 문장과 두번쨰 문장의 feature vector 추출\n",
    "vect1 = np.array(feature_vect_dense[0]).reshape(-1,)\n",
    "vect2 = np.array(feature_vect_dense[1]).reshape(-1,)\n",
    "\n",
    "# 첫번째 문장과 두번쨰 문장의 feature vector 로 두개 문장의 Cosine 유사도 추출\n",
    "similarity_simple = cos_similarity(vect1, vect2)\n",
    "print('문장 1, 문장 2 Cosine 유사도: {0:.3f}'.format(similarity_simple))"
   ]
  },
  {
   "cell_type": "markdown",
   "id": "2c41d657",
   "metadata": {},
   "source": [
    "사이킷런의 cosine_similarity()함수를 이용하여 비교"
   ]
  },
  {
   "cell_type": "code",
   "execution_count": 15,
   "id": "3473f711",
   "metadata": {
    "ExecuteTime": {
     "end_time": "2021-08-28T18:01:42.219432Z",
     "start_time": "2021-08-28T18:01:42.214493Z"
    }
   },
   "outputs": [
    {
     "name": "stdout",
     "output_type": "stream",
     "text": [
      "[[0.40207758 0.40425045]]\n"
     ]
    }
   ],
   "source": [
    "from sklearn.metrics.pairwise import cosine_similarity\n",
    "\n",
    "similarity_simple_pair = cosine_similarity(feature_vect_simple[0], feature_vect_simple[1:])\n",
    "print(similarity_simple_pair)"
   ]
  },
  {
   "cell_type": "code",
   "execution_count": null,
   "id": "44b2f723",
   "metadata": {},
   "outputs": [],
   "source": []
  },
  {
   "cell_type": "code",
   "execution_count": null,
   "id": "5ae0c382",
   "metadata": {},
   "outputs": [],
   "source": []
  }
 ],
 "metadata": {
  "kernelspec": {
   "display_name": "Python 3",
   "language": "python",
   "name": "python3"
  },
  "language_info": {
   "codemirror_mode": {
    "name": "ipython",
    "version": 3
   },
   "file_extension": ".py",
   "mimetype": "text/x-python",
   "name": "python",
   "nbconvert_exporter": "python",
   "pygments_lexer": "ipython3",
   "version": "3.8.8"
  },
  "toc": {
   "base_numbering": 1,
   "nav_menu": {},
   "number_sections": true,
   "sideBar": true,
   "skip_h1_title": false,
   "title_cell": "Table of Contents",
   "title_sidebar": "Contents",
   "toc_cell": false,
   "toc_position": {},
   "toc_section_display": true,
   "toc_window_display": false
  }
 },
 "nbformat": 4,
 "nbformat_minor": 5
}
