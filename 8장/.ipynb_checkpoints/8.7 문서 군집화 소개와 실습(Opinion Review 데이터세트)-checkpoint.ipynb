{
 "cells": [
  {
   "cell_type": "markdown",
   "id": "55b2f52e",
   "metadata": {},
   "source": [
    "# Opinion Review 데이터 세트를 이용한 문서 군집화 수행하기"
   ]
  },
  {
   "cell_type": "markdown",
   "id": "c2c014ac",
   "metadata": {},
   "source": [
    "데이터 로딩"
   ]
  },
  {
   "cell_type": "code",
   "execution_count": 15,
   "id": "36511f07",
   "metadata": {
    "ExecuteTime": {
     "end_time": "2021-08-28T06:43:55.876154Z",
     "start_time": "2021-08-28T06:43:55.698929Z"
    }
   },
   "outputs": [
    {
     "data": {
      "text/html": [
       "<div>\n",
       "<style scoped>\n",
       "    .dataframe tbody tr th:only-of-type {\n",
       "        vertical-align: middle;\n",
       "    }\n",
       "\n",
       "    .dataframe tbody tr th {\n",
       "        vertical-align: top;\n",
       "    }\n",
       "\n",
       "    .dataframe thead th {\n",
       "        text-align: right;\n",
       "    }\n",
       "</style>\n",
       "<table border=\"1\" class=\"dataframe\">\n",
       "  <thead>\n",
       "    <tr style=\"text-align: right;\">\n",
       "      <th></th>\n",
       "      <th>filename</th>\n",
       "      <th>opinion_text</th>\n",
       "    </tr>\n",
       "  </thead>\n",
       "  <tbody>\n",
       "    <tr>\n",
       "      <th>0</th>\n",
       "      <td>battery-life_ipod_nano_8gb</td>\n",
       "      <td>...</td>\n",
       "    </tr>\n",
       "    <tr>\n",
       "      <th>1</th>\n",
       "      <td>gas_mileage_toyota_camry_2007</td>\n",
       "      <td>...</td>\n",
       "    </tr>\n",
       "    <tr>\n",
       "      <th>2</th>\n",
       "      <td>room_holiday_inn_london</td>\n",
       "      <td>...</td>\n",
       "    </tr>\n",
       "    <tr>\n",
       "      <th>3</th>\n",
       "      <td>location_holiday_inn_london</td>\n",
       "      <td>...</td>\n",
       "    </tr>\n",
       "    <tr>\n",
       "      <th>4</th>\n",
       "      <td>staff_bestwestern_hotel_sfo</td>\n",
       "      <td>...</td>\n",
       "    </tr>\n",
       "  </tbody>\n",
       "</table>\n",
       "</div>"
      ],
      "text/plain": [
       "                        filename  \\\n",
       "0     battery-life_ipod_nano_8gb   \n",
       "1  gas_mileage_toyota_camry_2007   \n",
       "2        room_holiday_inn_london   \n",
       "3    location_holiday_inn_london   \n",
       "4    staff_bestwestern_hotel_sfo   \n",
       "\n",
       "                                        opinion_text  \n",
       "0                                                ...  \n",
       "1                                                ...  \n",
       "2                                                ...  \n",
       "3                                                ...  \n",
       "4                                                ...  "
      ]
     },
     "execution_count": 15,
     "metadata": {},
     "output_type": "execute_result"
    }
   ],
   "source": [
    "import pandas as pd\n",
    "import glob, os\n",
    "\n",
    "# glob.glob함수는 조건에 맞는 파일 명들을 리스트로 반환해준다.\n",
    "path = r'/Users/geumjong-yeon/ML_Guide/머신러닝 완벽가이드/data/topics'\n",
    "# path로 지정한 디렉토리 밑에 있는 모든 .data 파일들의 파일명을 리스트로 취합\n",
    "all_files = glob.glob(os.path.join(path, \"*.data\"))\n",
    "filename_list = []\n",
    "opinion_text = []\n",
    "\n",
    "# 개별 파이르들의 파일 내용은 DataFrame로딩 후 다시 string으로 변환하여 opinion_text 리스트로 취합.\n",
    "for file_ in all_files:\n",
    "    # 개별 파일을 읽어서 DataFrame으로 생성.\n",
    "    df = pd.read_table(file_,index_col=None, header = 0, encoding = 'latin1')\n",
    "    # 절대 경로로 주어진 file 명을 가공\n",
    "    filename_ = file_.split('/')[-1]\n",
    "    filename = filename_.split('.')[0]\n",
    "    \n",
    "    # 파일명 리스트와 파일 내용 리스트에 파일명과 파일 내용을 추가\n",
    "    filename_list.append(filename)\n",
    "    opinion_text.append(df.to_string())\n",
    "\n",
    "# 파일명 리스트와 파일내용 리스트를 DataFrame 으로 생성\n",
    "document_df = pd.DataFrame({'filename': filename_list, 'opinion_text':opinion_text})\n",
    "document_df.head()"
   ]
  },
  {
   "cell_type": "markdown",
   "id": "5a2970d8",
   "metadata": {},
   "source": [
    "Lemmatization을 위한 함수 생성"
   ]
  },
  {
   "cell_type": "code",
   "execution_count": 22,
   "id": "3c162222",
   "metadata": {
    "ExecuteTime": {
     "end_time": "2021-08-28T07:04:22.837744Z",
     "start_time": "2021-08-28T07:04:22.833851Z"
    }
   },
   "outputs": [],
   "source": [
    "from nltk.stem import WordNetLemmatizer\n",
    "import nltk\n",
    "import string\n",
    "remove_punct_dict = dict((ord(punct), None) for punct in string.punctuation)\n",
    "lemma = WordNetLemmatizer()\n",
    "\n",
    "def LemTokens(tokens):\n",
    "    return [lemma.lemmatize(token) for token in tokens]\n",
    "def LemNormalize(text):\n",
    "    return LemTokens(nltk.word_tokenize(text.lower().translate(remove_punct_dict)))"
   ]
  },
  {
   "cell_type": "markdown",
   "id": "bd303654",
   "metadata": {},
   "source": [
    "TF-IDF피처 벡터화, TFidVectorizer에서 피처 벡터화 수행시 lemmatization을 적용하여 토큰화"
   ]
  },
  {
   "cell_type": "code",
   "execution_count": 25,
   "id": "4f5a53c7",
   "metadata": {
    "ExecuteTime": {
     "end_time": "2021-08-28T07:05:39.276929Z",
     "start_time": "2021-08-28T07:05:37.438539Z"
    }
   },
   "outputs": [],
   "source": [
    "from sklearn.feature_extraction.text import TfidfVectorizer\n",
    "\n",
    "tfidf_vect = TfidfVectorizer(tokenizer = LemNormalize, stop_words='english',\n",
    "                            ngram_range=(1,2), min_df=0.05, max_df=0.85)\n",
    "# opinion_text 컬럼값으로 feature vectorization 수행\n",
    "feature_vect = tfidf_vect.fit_transform(document_df['opinion_text'])"
   ]
  },
  {
   "cell_type": "markdown",
   "id": "cc1e790f",
   "metadata": {
    "ExecuteTime": {
     "end_time": "2021-08-28T07:05:12.456468Z",
     "start_time": "2021-08-28T07:05:10.637842Z"
    }
   },
   "source": [
    "5개의 군집으로 K-means 군집화"
   ]
  },
  {
   "cell_type": "code",
   "execution_count": 29,
   "id": "860b512d",
   "metadata": {
    "ExecuteTime": {
     "end_time": "2021-08-28T07:10:22.436765Z",
     "start_time": "2021-08-28T07:10:22.349476Z"
    }
   },
   "outputs": [],
   "source": [
    "from sklearn.cluster import KMeans\n",
    "\n",
    "km_cluster = KMeans(n_clusters=5, max_iter=10000, random_state=0)\n",
    "km_cluster.fit(feature_vect)\n",
    "cluster_label = km_cluster.labels_\n",
    "cluster_centers = km_cluster.cluster_centers_\n"
   ]
  },
  {
   "cell_type": "code",
   "execution_count": null,
   "id": "6a10d688",
   "metadata": {},
   "outputs": [],
   "source": []
  },
  {
   "cell_type": "code",
   "execution_count": null,
   "id": "19ad38ed",
   "metadata": {},
   "outputs": [],
   "source": []
  }
 ],
 "metadata": {
  "kernelspec": {
   "display_name": "Python 3",
   "language": "python",
   "name": "python3"
  },
  "language_info": {
   "codemirror_mode": {
    "name": "ipython",
    "version": 3
   },
   "file_extension": ".py",
   "mimetype": "text/x-python",
   "name": "python",
   "nbconvert_exporter": "python",
   "pygments_lexer": "ipython3",
   "version": "3.8.8"
  },
  "toc": {
   "base_numbering": 1,
   "nav_menu": {},
   "number_sections": true,
   "sideBar": true,
   "skip_h1_title": false,
   "title_cell": "Table of Contents",
   "title_sidebar": "Contents",
   "toc_cell": false,
   "toc_position": {},
   "toc_section_display": true,
   "toc_window_display": false
  }
 },
 "nbformat": 4,
 "nbformat_minor": 5
}
