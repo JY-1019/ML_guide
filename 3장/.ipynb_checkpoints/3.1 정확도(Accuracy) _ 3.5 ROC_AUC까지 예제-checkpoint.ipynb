{
 "cells": [
  {
   "cell_type": "markdown",
   "id": "4a7e52df",
   "metadata": {},
   "source": [
    "# 3-1 Accuracy  (정확도)"
   ]
  },
  {
   "cell_type": "code",
   "execution_count": 3,
   "id": "1dd4c767",
   "metadata": {
    "ExecuteTime": {
     "end_time": "2021-06-27T15:50:46.974224Z",
     "start_time": "2021-06-27T15:50:46.969731Z"
    }
   },
   "outputs": [],
   "source": [
    "import numpy as np\n",
    "from sklearn.base import BaseEstimator\n",
    "\n",
    "\n",
    "class MyDummyClassifier(BaseEstimator):\n",
    "    # fit 메소드는 아무것도 학습하지 않음\n",
    "    def fit(self, X, y=None):\n",
    "        pass\n",
    "    \n",
    "    # predict() 메소드는 단순히 Sex feature가 1이면 0, 그렇지 않으면 1로 예측함\n",
    "    def predict(self, X):\n",
    "        pred = np.zeros((X.shape[0], 1))\n",
    "        for i in range(X.shape[0]):\n",
    "            if X['Sex'].iloc[i]==1:\n",
    "                pred[i] = 0\n",
    "            else:\n",
    "                pred[i] = 1\n",
    "        return pred"
   ]
  },
  {
   "cell_type": "code",
   "execution_count": 4,
   "id": "c4cd9337",
   "metadata": {
    "ExecuteTime": {
     "end_time": "2021-06-27T15:50:47.367897Z",
     "start_time": "2021-06-27T15:50:47.361954Z"
    }
   },
   "outputs": [],
   "source": [
    "from sklearn.preprocessing import LabelEncoder\n",
    "\n",
    "def fillna(df):\n",
    "    df['Age'].fillna(df['Age'].mean(), inplace = True)\n",
    "    df['Embarked'].fillna('N', inplace=True)\n",
    "    df['Cabin'].fillna('N', inplace=True)\n",
    "    df['Fare'].fillna(0, inplace = True)\n",
    "    return df\n",
    "\n",
    "\n",
    "def drop_features(df):\n",
    "    df.drop(['PassengerId', 'Name', 'Ticket'], axis=1, inplace=True)\n",
    "    return df\n",
    "\n",
    "def format_features(df):\n",
    "    df['Cabin'] = df['Cabin'].str[:1]\n",
    "    features = ['Cabin', 'Embarked', 'Sex']\n",
    "    for feature in features:\n",
    "        le = LabelEncoder()\n",
    "        le = le.fit(df[feature])\n",
    "        df[feature] = le.transform(df[feature])\n",
    "    return df\n",
    "\n",
    "def transform_feature(df):\n",
    "    df = fillna(df)\n",
    "    df = drop_features(df)\n",
    "    df = format_features(df)\n",
    "    return df\n",
    "    "
   ]
  },
  {
   "cell_type": "code",
   "execution_count": 5,
   "id": "33763f8b",
   "metadata": {
    "ExecuteTime": {
     "end_time": "2021-06-27T15:50:47.934730Z",
     "start_time": "2021-06-27T15:50:47.917794Z"
    }
   },
   "outputs": [],
   "source": [
    "import pandas as pd \n",
    "from sklearn.model_selection import train_test_split\n",
    "from sklearn.metrics import accuracy_score\n",
    "\n",
    "titanic_df = pd.read_csv('./train.csv')\n",
    "y_t_df = titanic_df['Survived']\n",
    "x_t_df = titanic_df.drop('Survived', axis = 1)\n",
    "x_t_df = transform_feature(x_t_df)\n",
    "\n",
    "X_train, X_test, y_train, y_test = train_test_split(x_t_df, y_t_df, \\\n",
    "                                                   test_size = 0.2, random_state = 11)"
   ]
  },
  {
   "cell_type": "code",
   "execution_count": 6,
   "id": "017bfe09",
   "metadata": {
    "ExecuteTime": {
     "end_time": "2021-06-27T15:50:48.401694Z",
     "start_time": "2021-06-27T15:50:48.395299Z"
    }
   },
   "outputs": [
    {
     "name": "stdout",
     "output_type": "stream",
     "text": [
      "0.8324022346368715\n"
     ]
    }
   ],
   "source": [
    "mclf = MyDummyClassifier()\n",
    "mclf.fit(X_train, y_train)\n",
    "\n",
    "mypredictions = mclf.predict(X_test)\n",
    "print(accuracy_score(y_test, mypredictions))"
   ]
  },
  {
   "cell_type": "markdown",
   "id": "7a6ef056",
   "metadata": {},
   "source": [
    "# 3-2 Confusion Matrix (오차 행렬)"
   ]
  },
  {
   "cell_type": "markdown",
   "id": "00688829",
   "metadata": {},
   "source": [
    "- 정밀도:예측을 positive로 한 대상 중에 예측과 실제 값이 positive로 일치한 데이터의 비율\n",
    "- 재현율:실제값이 positive인 대상 중에 예측과 실제 값이 positive로 일치한 데이터의 비율"
   ]
  },
  {
   "cell_type": "code",
   "execution_count": 7,
   "id": "86cd460f",
   "metadata": {
    "ExecuteTime": {
     "end_time": "2021-06-27T15:50:49.201228Z",
     "start_time": "2021-06-27T15:50:49.189343Z"
    }
   },
   "outputs": [
    {
     "data": {
      "text/plain": [
       "array([[103,  15],\n",
       "       [ 15,  46]])"
      ]
     },
     "execution_count": 7,
     "metadata": {},
     "output_type": "execute_result"
    }
   ],
   "source": [
    "from sklearn.metrics import confusion_matrix\n",
    "confusion_matrix(y_test, mypredictions)"
   ]
  },
  {
   "cell_type": "markdown",
   "id": "291c2c4a",
   "metadata": {},
   "source": [
    "## 정밀도(precision)와 재현율(recall)"
   ]
  },
  {
   "cell_type": "code",
   "execution_count": 8,
   "id": "cd742653",
   "metadata": {
    "ExecuteTime": {
     "end_time": "2021-06-27T15:50:49.528950Z",
     "start_time": "2021-06-27T15:50:49.521058Z"
    }
   },
   "outputs": [
    {
     "name": "stdout",
     "output_type": "stream",
     "text": [
      "0.7540983606557377\n",
      "0.7540983606557377\n"
     ]
    }
   ],
   "source": [
    "from sklearn.metrics import accuracy_score, precision_score, recall_score\n",
    "\n",
    "print(precision_score(y_test, mypredictions))\n",
    "print(recall_score(y_test, mypredictions))"
   ]
  },
  {
   "cell_type": "markdown",
   "id": "d6aa0276",
   "metadata": {},
   "source": [
    "- 오차행렬 정확도 정밀도 재현율을 한꺼번에 계산하는 함수 생성"
   ]
  },
  {
   "cell_type": "code",
   "execution_count": 9,
   "id": "9c4eacd3",
   "metadata": {
    "ExecuteTime": {
     "end_time": "2021-06-27T15:50:50.013425Z",
     "start_time": "2021-06-27T15:50:50.009676Z"
    }
   },
   "outputs": [],
   "source": [
    "from sklearn.metrics import accuracy_score, precision_score, recall_score\n",
    "\n",
    "def get_clf_eval(y_test, pred):\n",
    "    confusion = confusion_matrix(y_test, pred)\n",
    "    accuracy = accuracy_score(y_test, pred)\n",
    "    precision = precision_score(y_test, pred)\n",
    "    recall = recall_score(y_test, pred)\n",
    "    print('오차 행렬')\n",
    "    print(confusion)\n",
    "    print('정확도 : {0:.4f}, 정밀도 : {1:.4f}, 재현율 : {2:.4f}'.format(accuracy, precision, recall))"
   ]
  },
  {
   "cell_type": "code",
   "execution_count": 10,
   "id": "912dc6c5",
   "metadata": {
    "ExecuteTime": {
     "end_time": "2021-06-27T15:50:50.226368Z",
     "start_time": "2021-06-27T15:50:50.168316Z"
    }
   },
   "outputs": [
    {
     "name": "stdout",
     "output_type": "stream",
     "text": [
      "오차 행렬\n",
      "[[104  14]\n",
      " [ 13  48]]\n",
      "정확도 : 0.8492, 정밀도 : 0.7742, 재현율 : 0.7869\n"
     ]
    },
    {
     "name": "stderr",
     "output_type": "stream",
     "text": [
      "/opt/anaconda3/lib/python3.8/site-packages/sklearn/linear_model/_logistic.py:763: ConvergenceWarning: lbfgs failed to converge (status=1):\n",
      "STOP: TOTAL NO. of ITERATIONS REACHED LIMIT.\n",
      "\n",
      "Increase the number of iterations (max_iter) or scale the data as shown in:\n",
      "    https://scikit-learn.org/stable/modules/preprocessing.html\n",
      "Please also refer to the documentation for alternative solver options:\n",
      "    https://scikit-learn.org/stable/modules/linear_model.html#logistic-regression\n",
      "  n_iter_i = _check_optimize_result(\n"
     ]
    }
   ],
   "source": [
    "import numpy as np \n",
    "import pandas as pd \n",
    "\n",
    "from sklearn.model_selection import train_test_split\n",
    "from sklearn.linear_model import LogisticRegression\n",
    "\n",
    "titanic_df = pd.read_csv('./train.csv')\n",
    "y_t_df = titanic_df['Survived']\n",
    "X_t_df = titanic_df.drop('Survived', axis = 1)\n",
    "X_t_df = transform_feature(X_t_df)\n",
    "\n",
    "X_train, X_test, y_train, y_test = train_test_split(X_t_df, y_t_df,\n",
    "                                                   test_size = 0.2, random_state = 11)\n",
    "lr_clf = LogisticRegression()\n",
    "lr_clf.fit(X_train, y_train)\n",
    "pred = lr_clf.predict(X_test)\n",
    "get_clf_eval(y_test, pred)"
   ]
  },
  {
   "cell_type": "markdown",
   "id": "a70107e2",
   "metadata": {},
   "source": [
    "# Precicion/Recall Trade-off"
   ]
  },
  {
   "cell_type": "code",
   "execution_count": null,
   "id": "53a84382",
   "metadata": {},
   "outputs": [],
   "source": []
  },
  {
   "cell_type": "code",
   "execution_count": null,
   "id": "96e6493b",
   "metadata": {},
   "outputs": [],
   "source": [
    " "
   ]
  }
 ],
 "metadata": {
  "kernelspec": {
   "display_name": "Python 3",
   "language": "python",
   "name": "python3"
  },
  "language_info": {
   "codemirror_mode": {
    "name": "ipython",
    "version": 3
   },
   "file_extension": ".py",
   "mimetype": "text/x-python",
   "name": "python",
   "nbconvert_exporter": "python",
   "pygments_lexer": "ipython3",
   "version": "3.8.8"
  },
  "toc": {
   "base_numbering": 1,
   "nav_menu": {},
   "number_sections": true,
   "sideBar": true,
   "skip_h1_title": false,
   "title_cell": "Table of Contents",
   "title_sidebar": "Contents",
   "toc_cell": false,
   "toc_position": {},
   "toc_section_display": true,
   "toc_window_display": false
  }
 },
 "nbformat": 4,
 "nbformat_minor": 5
}
