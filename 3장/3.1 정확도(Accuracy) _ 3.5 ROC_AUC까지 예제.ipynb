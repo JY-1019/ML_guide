{
 "cells": [
  {
   "cell_type": "markdown",
   "id": "4a7e52df",
   "metadata": {},
   "source": [
    "# 3-1 Accuracy  (정확도)"
   ]
  },
  {
   "cell_type": "code",
   "execution_count": 20,
   "id": "1dd4c767",
   "metadata": {
    "ExecuteTime": {
     "end_time": "2021-06-28T06:37:01.463213Z",
     "start_time": "2021-06-28T06:37:01.458543Z"
    }
   },
   "outputs": [],
   "source": [
    "import numpy as np\n",
    "from sklearn.base import BaseEstimator\n",
    "\n",
    "\n",
    "class MyDummyClassifier(BaseEstimator):\n",
    "    # fit 메소드는 아무것도 학습하지 않음\n",
    "    def fit(self, X, y=None):\n",
    "        pass\n",
    "    \n",
    "    # predict() 메소드는 단순히 Sex feature가 1이면 0, 그렇지 않으면 1로 예측함\n",
    "    def predict(self, X):\n",
    "        pred = np.zeros((X.shape[0], 1))\n",
    "        for i in range(X.shape[0]):\n",
    "            if X['Sex'].iloc[i]==1:\n",
    "                pred[i] = 0\n",
    "            else:\n",
    "                pred[i] = 1\n",
    "        return pred"
   ]
  },
  {
   "cell_type": "code",
   "execution_count": 21,
   "id": "c4cd9337",
   "metadata": {
    "ExecuteTime": {
     "end_time": "2021-06-28T06:37:01.627120Z",
     "start_time": "2021-06-28T06:37:01.621874Z"
    }
   },
   "outputs": [],
   "source": [
    "from sklearn.preprocessing import LabelEncoder\n",
    "\n",
    "def fillna(df):\n",
    "    df['Age'].fillna(df['Age'].mean(), inplace = True)\n",
    "    df['Embarked'].fillna('N', inplace=True)\n",
    "    df['Cabin'].fillna('N', inplace=True)\n",
    "    df['Fare'].fillna(0, inplace = True)\n",
    "    return df\n",
    "\n",
    "\n",
    "def drop_features(df):\n",
    "    df.drop(['PassengerId', 'Name', 'Ticket'], axis=1, inplace=True)\n",
    "    return df\n",
    "\n",
    "def format_features(df):\n",
    "    df['Cabin'] = df['Cabin'].str[:1]\n",
    "    features = ['Cabin', 'Embarked', 'Sex']\n",
    "    for feature in features:\n",
    "        le = LabelEncoder()\n",
    "        le = le.fit(df[feature])\n",
    "        df[feature] = le.transform(df[feature])\n",
    "    return df\n",
    "\n",
    "def transform_feature(df):\n",
    "    df = fillna(df)\n",
    "    df = drop_features(df)\n",
    "    df = format_features(df)\n",
    "    return df\n",
    "    "
   ]
  },
  {
   "cell_type": "code",
   "execution_count": 22,
   "id": "33763f8b",
   "metadata": {
    "ExecuteTime": {
     "end_time": "2021-06-28T06:37:01.763673Z",
     "start_time": "2021-06-28T06:37:01.748884Z"
    }
   },
   "outputs": [],
   "source": [
    "import pandas as pd \n",
    "from sklearn.model_selection import train_test_split\n",
    "from sklearn.metrics import accuracy_score\n",
    "\n",
    "titanic_df = pd.read_csv('./train.csv')\n",
    "y_t_df = titanic_df['Survived']\n",
    "x_t_df = titanic_df.drop('Survived', axis = 1)\n",
    "x_t_df = transform_feature(x_t_df)\n",
    "\n",
    "X_train, X_test, y_train, y_test = train_test_split(x_t_df, y_t_df, \\\n",
    "                                                   test_size = 0.2, random_state = 11)"
   ]
  },
  {
   "cell_type": "code",
   "execution_count": 23,
   "id": "017bfe09",
   "metadata": {
    "ExecuteTime": {
     "end_time": "2021-06-28T06:37:01.872448Z",
     "start_time": "2021-06-28T06:37:01.865850Z"
    }
   },
   "outputs": [
    {
     "name": "stdout",
     "output_type": "stream",
     "text": [
      "0.8324022346368715\n"
     ]
    }
   ],
   "source": [
    "mclf = MyDummyClassifier()\n",
    "mclf.fit(X_train, y_train)\n",
    "\n",
    "mypredictions = mclf.predict(X_test)\n",
    "print(accuracy_score(y_test, mypredictions))"
   ]
  },
  {
   "cell_type": "markdown",
   "id": "7a6ef056",
   "metadata": {},
   "source": [
    "# 3-2 Confusion Matrix (오차 행렬)"
   ]
  },
  {
   "cell_type": "markdown",
   "id": "00688829",
   "metadata": {},
   "source": [
    "- 정밀도:예측을 positive로 한 대상 중에 예측과 실제 값이 positive로 일치한 데이터의 비율\n",
    "- 재현율:실제값이 positive인 대상 중에 예측과 실제 값이 positive로 일치한 데이터의 비율"
   ]
  },
  {
   "cell_type": "code",
   "execution_count": 24,
   "id": "86cd460f",
   "metadata": {
    "ExecuteTime": {
     "end_time": "2021-06-28T06:37:02.203277Z",
     "start_time": "2021-06-28T06:37:02.198395Z"
    }
   },
   "outputs": [
    {
     "data": {
      "text/plain": [
       "array([[103,  15],\n",
       "       [ 15,  46]])"
      ]
     },
     "execution_count": 24,
     "metadata": {},
     "output_type": "execute_result"
    }
   ],
   "source": [
    "from sklearn.metrics import confusion_matrix\n",
    "confusion_matrix(y_test, mypredictions)"
   ]
  },
  {
   "cell_type": "markdown",
   "id": "291c2c4a",
   "metadata": {},
   "source": [
    "## 정밀도(precision)와 재현율(recall)"
   ]
  },
  {
   "cell_type": "code",
   "execution_count": 25,
   "id": "cd742653",
   "metadata": {
    "ExecuteTime": {
     "end_time": "2021-06-28T06:37:02.455214Z",
     "start_time": "2021-06-28T06:37:02.448330Z"
    }
   },
   "outputs": [
    {
     "name": "stdout",
     "output_type": "stream",
     "text": [
      "0.7540983606557377\n",
      "0.7540983606557377\n"
     ]
    }
   ],
   "source": [
    "from sklearn.metrics import accuracy_score, precision_score, recall_score\n",
    "\n",
    "print(precision_score(y_test, mypredictions))\n",
    "print(recall_score(y_test, mypredictions))"
   ]
  },
  {
   "cell_type": "markdown",
   "id": "d6aa0276",
   "metadata": {},
   "source": [
    "- 오차행렬 정확도 정밀도 재현율을 한꺼번에 계산하는 함수 생성"
   ]
  },
  {
   "cell_type": "code",
   "execution_count": 26,
   "id": "9c4eacd3",
   "metadata": {
    "ExecuteTime": {
     "end_time": "2021-06-28T06:37:02.669540Z",
     "start_time": "2021-06-28T06:37:02.666045Z"
    }
   },
   "outputs": [],
   "source": [
    "from sklearn.metrics import accuracy_score, precision_score, recall_score\n",
    "\n",
    "def get_clf_eval(y_test, pred):\n",
    "    confusion = confusion_matrix(y_test, pred)\n",
    "    accuracy = accuracy_score(y_test, pred)\n",
    "    precision = precision_score(y_test, pred)\n",
    "    recall = recall_score(y_test, pred)\n",
    "    print('오차 행렬')\n",
    "    print(confusion)\n",
    "    print('정확도 : {0:.4f}, 정밀도 : {1:.4f}, 재현율 : {2:.4f}'.format(accuracy, precision, recall))"
   ]
  },
  {
   "cell_type": "code",
   "execution_count": 27,
   "id": "912dc6c5",
   "metadata": {
    "ExecuteTime": {
     "end_time": "2021-06-28T06:37:02.840315Z",
     "start_time": "2021-06-28T06:37:02.783522Z"
    }
   },
   "outputs": [
    {
     "name": "stdout",
     "output_type": "stream",
     "text": [
      "오차 행렬\n",
      "[[104  14]\n",
      " [ 13  48]]\n",
      "정확도 : 0.8492, 정밀도 : 0.7742, 재현율 : 0.7869\n"
     ]
    },
    {
     "name": "stderr",
     "output_type": "stream",
     "text": [
      "/opt/anaconda3/lib/python3.8/site-packages/sklearn/linear_model/_logistic.py:763: ConvergenceWarning: lbfgs failed to converge (status=1):\n",
      "STOP: TOTAL NO. of ITERATIONS REACHED LIMIT.\n",
      "\n",
      "Increase the number of iterations (max_iter) or scale the data as shown in:\n",
      "    https://scikit-learn.org/stable/modules/preprocessing.html\n",
      "Please also refer to the documentation for alternative solver options:\n",
      "    https://scikit-learn.org/stable/modules/linear_model.html#logistic-regression\n",
      "  n_iter_i = _check_optimize_result(\n"
     ]
    }
   ],
   "source": [
    "import numpy as np \n",
    "import pandas as pd \n",
    "\n",
    "from sklearn.model_selection import train_test_split\n",
    "from sklearn.linear_model import LogisticRegression\n",
    "\n",
    "titanic_df = pd.read_csv('./train.csv')\n",
    "y_t_df = titanic_df['Survived']\n",
    "X_t_df = titanic_df.drop('Survived', axis = 1)\n",
    "X_t_df = transform_feature(X_t_df)\n",
    "\n",
    "X_train, X_test, y_train, y_test = train_test_split(X_t_df, y_t_df,\n",
    "                                                   test_size = 0.2, random_state = 11)\n",
    "lr_clf = LogisticRegression()\n",
    "lr_clf.fit(X_train, y_train)\n",
    "pred = lr_clf.predict(X_test)\n",
    "get_clf_eval(y_test, pred)"
   ]
  },
  {
   "cell_type": "markdown",
   "id": "c6ad514b",
   "metadata": {},
   "source": [
    "# 3-3Precicion/Recall Trade-off"
   ]
  },
  {
   "cell_type": "markdown",
   "id": "c51c4c9e",
   "metadata": {},
   "source": [
    "predict_proba() 메소드 확인"
   ]
  },
  {
   "cell_type": "code",
   "execution_count": 28,
   "id": "5262c2ef",
   "metadata": {
    "ExecuteTime": {
     "end_time": "2021-06-28T06:37:03.113878Z",
     "start_time": "2021-06-28T06:37:03.105787Z"
    }
   },
   "outputs": [
    {
     "name": "stdout",
     "output_type": "stream",
     "text": [
      "predict_proba shape:(179, 2)\n",
      "pred_proba array 에서 앞 3개만 샘플로 추출 \n",
      " : [[0.46189204 0.53810796]\n",
      " [0.87872347 0.12127653]\n",
      " [0.87720675 0.12279325]]\n",
      "두개의 class 중에서 더 큰 확률을 클래스 값으로 예측 \n",
      " [[0.46189204 0.53810796 1.        ]\n",
      " [0.87872347 0.12127653 0.        ]\n",
      " [0.87720675 0.12279325 0.        ]]\n"
     ]
    }
   ],
   "source": [
    "pred_proba = lr_clf.predict_proba(X_test)\n",
    "pred = lr_clf.predict(X_test)\n",
    "\n",
    "print('predict_proba shape:{0}'.format(pred_proba.shape))\n",
    "print('pred_proba array 에서 앞 3개만 샘플로 추출 \\n :', pred_proba[:3])\n",
    "\n",
    "pred_proba_result = np.concatenate([pred_proba, pred.reshape(-1, 1)], axis = 1)\n",
    "print('두개의 class 중에서 더 큰 확률을 클래스 값으로 예측 \\n',pred_proba_result[:3])"
   ]
  },
  {
   "cell_type": "markdown",
   "id": "f38f3515",
   "metadata": {},
   "source": [
    "Binarizer 활용"
   ]
  },
  {
   "cell_type": "code",
   "execution_count": 29,
   "id": "bfa4ef37",
   "metadata": {
    "ExecuteTime": {
     "end_time": "2021-06-28T06:37:03.420002Z",
     "start_time": "2021-06-28T06:37:03.416311Z"
    }
   },
   "outputs": [
    {
     "name": "stdout",
     "output_type": "stream",
     "text": [
      "[[0. 0. 1.]\n",
      " [1. 0. 0.]\n",
      " [0. 0. 1.]]\n"
     ]
    }
   ],
   "source": [
    "from sklearn.preprocessing import Binarizer\n",
    "\n",
    "X = [[1, -1, 2],\n",
    "     [2, 0, 0],\n",
    "     [0, 1.1, 1.2]]\n",
    "\n",
    "# thresholf 기준값보다 같거나 작으면 0을 , 크면 1을 반환\n",
    "binarizer = Binarizer(threshold = 1.1)\n",
    "print(binarizer.fit_transform(X))"
   ]
  },
  {
   "cell_type": "markdown",
   "id": "d8fa07d3",
   "metadata": {},
   "source": [
    "분류 결정 임계값 0.5 기반에서 Binarizer를 이용하여 예측값 변환"
   ]
  },
  {
   "cell_type": "code",
   "execution_count": 30,
   "id": "a667fbd6",
   "metadata": {
    "ExecuteTime": {
     "end_time": "2021-06-28T06:37:03.986535Z",
     "start_time": "2021-06-28T06:37:03.977821Z"
    }
   },
   "outputs": [
    {
     "name": "stdout",
     "output_type": "stream",
     "text": [
      "오차 행렬\n",
      "[[104  14]\n",
      " [ 13  48]]\n",
      "정확도 : 0.8492, 정밀도 : 0.7742, 재현율 : 0.7869\n"
     ]
    }
   ],
   "source": [
    "from sklearn.preprocessing import Binarizer\n",
    "\n",
    "# Binarizer 의 threshold 설정값, 분류 결정 임곗값임.\n",
    "custom_threshold = 0.5\n",
    "\n",
    "pred_proba_1 = pred_proba[:, 1].reshape(-1, 1)\n",
    "\n",
    "binarizer = Binarizer(threshold = custom_threshold).fit(pred_proba_1)\n",
    "custom_predict = binarizer.transform(pred_proba_1)\n",
    "\n",
    "get_clf_eval(y_test, custom_predict)"
   ]
  },
  {
   "cell_type": "code",
   "execution_count": 31,
   "id": "f26a0542",
   "metadata": {
    "ExecuteTime": {
     "end_time": "2021-06-28T06:37:04.117758Z",
     "start_time": "2021-06-28T06:37:04.109592Z"
    }
   },
   "outputs": [
    {
     "name": "stdout",
     "output_type": "stream",
     "text": [
      "오차 행렬\n",
      "[[98 20]\n",
      " [10 51]]\n",
      "정확도 : 0.8324, 정밀도 : 0.7183, 재현율 : 0.8361\n"
     ]
    }
   ],
   "source": [
    "from sklearn.preprocessing import Binarizer\n",
    "\n",
    "# Binarizer 의 threshold 설정값, 분류 결정 임곗값임.\n",
    "custom_threshold = 0.4\n",
    "\n",
    "pred_proba_1 = pred_proba[:, 1].reshape(-1, 1)\n",
    "\n",
    "binarizer = Binarizer(threshold = custom_threshold).fit(pred_proba_1)\n",
    "custom_predict = binarizer.transform(pred_proba_1)\n",
    "\n",
    "get_clf_eval(y_test, custom_predict)"
   ]
  },
  {
   "cell_type": "markdown",
   "id": "37c38aa9",
   "metadata": {},
   "source": [
    "precision_racall_curve() 를 이용하여 임곗값에 따른 정밀도-재현율 값 추출"
   ]
  },
  {
   "cell_type": "code",
   "execution_count": 36,
   "id": "34ff51cf",
   "metadata": {
    "ExecuteTime": {
     "end_time": "2021-06-28T06:38:45.754803Z",
     "start_time": "2021-06-28T06:38:45.747123Z"
    }
   },
   "outputs": [
    {
     "name": "stdout",
     "output_type": "stream",
     "text": [
      "threshold: (143,)\n",
      "precisions: (144,)\n",
      "recalls: (144,)\n",
      "[0.1038794  0.10388165 0.1039068  0.10782079 0.10885047]\n",
      "[0.38853503 0.38461538 0.38709677 0.38961039 0.38562092]\n",
      "[1.         0.98360656 0.98360656 0.98360656 0.96721311]\n"
     ]
    }
   ],
   "source": [
    "from sklearn.metrics import precision_recall_curve\n",
    "\n",
    "pred_proba_class1 = lr_clf.predict_proba(X_test)[:,1]\n",
    "precisions, recalls, thresholds = precision_recall_curve(y_test, pred_proba_class1)\n",
    "print('threshold:', thresholds.shape)\n",
    "print('precisions:', precisions.shape)\n",
    "print('recalls:', recalls.shape)\n",
    "print(thresholds[:5])\n",
    "print(precisions[:5])\n",
    "print(recalls[:5])"
   ]
  },
  {
   "cell_type": "code",
   "execution_count": 38,
   "id": "0a147fdd",
   "metadata": {
    "ExecuteTime": {
     "end_time": "2021-06-28T06:42:41.826166Z",
     "start_time": "2021-06-28T06:42:41.821795Z"
    }
   },
   "outputs": [
    {
     "name": "stdout",
     "output_type": "stream",
     "text": [
      "[0.1  0.12 0.14 0.19 0.28 0.4  0.56 0.67 0.82 0.95]\n",
      "[0.389 0.44  0.466 0.539 0.647 0.729 0.836 0.949 0.958 1.   ]\n",
      "[1.    0.967 0.902 0.902 0.902 0.836 0.754 0.607 0.377 0.148]\n"
     ]
    }
   ],
   "source": [
    "thr_index = np.arange(0, thresholds.shape[0], 15)\n",
    "print(np.round(thresholds[thr_index], 2))\n",
    "print(np.round(precisions[thr_index], 3))\n",
    "print(np.round(recalls[thr_index], 3))"
   ]
  },
  {
   "cell_type": "markdown",
   "id": "0add0edc",
   "metadata": {},
   "source": [
    "# 3-4 F1 Score"
   ]
  },
  {
   "cell_type": "code",
   "execution_count": 40,
   "id": "247fb9ef",
   "metadata": {
    "ExecuteTime": {
     "end_time": "2021-06-28T06:59:28.124053Z",
     "start_time": "2021-06-28T06:59:28.118040Z"
    }
   },
   "outputs": [
    {
     "data": {
      "text/plain": [
       "0.7804878048780488"
      ]
     },
     "execution_count": 40,
     "metadata": {},
     "output_type": "execute_result"
    }
   ],
   "source": [
    "from sklearn.metrics import f1_score\n",
    "f1 = f1_score(y_test, pred)\n",
    "f1"
   ]
  },
  {
   "cell_type": "code",
   "execution_count": 41,
   "id": "b0af54a5",
   "metadata": {
    "ExecuteTime": {
     "end_time": "2021-06-28T07:01:19.449414Z",
     "start_time": "2021-06-28T07:01:19.445743Z"
    }
   },
   "outputs": [],
   "source": [
    "def get_clf_eval(y_test, pred):\n",
    "    confusion = confusion_matrix(y_test, pred)\n",
    "    accuracy = accuracy_score(y_test, pred)\n",
    "    precision = precision_score(y_test, pred)\n",
    "    recall = recall_score(y_test, pred)\n",
    "    f1 = f1_score(y_test, pred)\n",
    "    \n",
    "    print('오차 행렬')\n",
    "    print(confusion)\n",
    "    print('정확도 : {0:.4f}, 정밀도 : {1:.4f}, 재현율 : {2:.4f}, F1:{3:.4f}'.format(accuracy, precision, recall, f1))\n",
    "    "
   ]
  },
  {
   "cell_type": "markdown",
   "id": "bb134340",
   "metadata": {},
   "source": [
    "# 3-5 ROC Curve와 AUC"
   ]
  },
  {
   "cell_type": "code",
   "execution_count": 50,
   "id": "dd4c61a4",
   "metadata": {
    "ExecuteTime": {
     "end_time": "2021-06-28T07:18:54.765852Z",
     "start_time": "2021-06-28T07:18:54.756319Z"
    }
   },
   "outputs": [
    {
     "name": "stdout",
     "output_type": "stream",
     "text": [
      "샘플 추출을 위한 임곗값 배열의 index 10개 [ 0  5 10 15 20 25 30 35 40 45 50]\n",
      "샘플용 10개의 임곗값 [1.97 0.75 0.63 0.59 0.49 0.4  0.35 0.23 0.13 0.12 0.11]\n",
      "샘플 입곗값 별 FPR [0.    0.017 0.034 0.051 0.127 0.161 0.203 0.331 0.585 0.636 0.797]\n",
      "샘플 임곗값 별 TPR [0.    0.475 0.689 0.754 0.787 0.836 0.869 0.902 0.918 0.967 0.967]\n"
     ]
    }
   ],
   "source": [
    "from sklearn.metrics import roc_curve\n",
    "\n",
    "pred_proba_class1 = lr_clf.predict_proba(X_test)[:,1]\n",
    "fprs, tprs, thresholds = roc_curve(y_test, pred_proba_class1)\n",
    "\n",
    "thr_index = np.arange(0, thresholds.shape[0], 5)\n",
    "\n",
    "print('샘플 추출을 위한 임곗값 배열의 index 10개', thr_index)\n",
    "print('샘플용 10개의 임곗값', np.round(thresholds[thr_index], 2))\n",
    "\n",
    "print('샘플 입곗값 별 FPR', np.round(fprs[thr_index], 3))\n",
    "print('샘플 임곗값 별 TPR', np.round(tprs[thr_index], 3))"
   ]
  },
  {
   "cell_type": "code",
   "execution_count": 54,
   "id": "83491660",
   "metadata": {
    "ExecuteTime": {
     "end_time": "2021-06-28T07:24:53.401817Z",
     "start_time": "2021-06-28T07:24:53.239988Z"
    }
   },
   "outputs": [
    {
     "data": {
      "image/png": "[encoded data removed]",
      "text/plain": [
       "<Figure size 432x288 with 1 Axes>"
      ]
     },
     "metadata": {
      "needs_background": "light"
     },
     "output_type": "display_data"
    }
   ],
   "source": [
    "import matplotlib.pyplot as plt\n",
    "def roc_curve_plot(y_test, pred_proba_c1):\n",
    "    fprs, tprs, thresholds = roc_curve(y_test, pred_proba_c1)\n",
    "    plt.plot(fprs, tprs, label = 'ROC')\n",
    "    plt.plot([0,1], [0,1],'k--', label = 'Random')\n",
    "    \n",
    "    start, end = plt.xlim()\n",
    "    plt.xticks(np.round(np.arange(start, end, 0.1),2))\n",
    "    plt.xlim(0,1);plt.ylim(0,1)\n",
    "    plt.xlabel('FPR(1-Sennsitivity)');plt.ylabel('TPR(Recall)')\n",
    "    plt.legend()\n",
    "    plt.show()\n",
    "\n",
    "\n",
    "roc_curve_plot(y_test, lr_clf.predict_proba(X_test)[:,1])"
   ]
  },
  {
   "cell_type": "code",
   "execution_count": 55,
   "id": "78d282fd",
   "metadata": {
    "ExecuteTime": {
     "end_time": "2021-06-28T07:27:44.031962Z",
     "start_time": "2021-06-28T07:27:44.024786Z"
    }
   },
   "outputs": [
    {
     "name": "stdout",
     "output_type": "stream",
     "text": [
      "ROC AUC 값:0.9024\n"
     ]
    }
   ],
   "source": [
    "from sklearn.metrics import roc_auc_score\n",
    "\n",
    "pred_proba = lr_clf.predict_proba(X_test)[:,1]\n",
    "roc_score = roc_auc_score(y_test, pred_proba)\n",
    "print('ROC AUC 값:{0:.4f}'.format(roc_score))"
   ]
  },
  {
   "cell_type": "code",
   "execution_count": null,
   "id": "017d68b6",
   "metadata": {},
   "outputs": [],
   "source": []
  }
 ],
 "metadata": {
  "kernelspec": {
   "display_name": "Python 3",
   "language": "python",
   "name": "python3"
  },
  "language_info": {
   "codemirror_mode": {
    "name": "ipython",
    "version": 3
   },
   "file_extension": ".py",
   "mimetype": "text/x-python",
   "name": "python",
   "nbconvert_exporter": "python",
   "pygments_lexer": "ipython3",
   "version": "3.8.8"
  },
  "toc": {
   "base_numbering": 1,
   "nav_menu": {},
   "number_sections": true,
   "sideBar": true,
   "skip_h1_title": false,
   "title_cell": "Table of Contents",
   "title_sidebar": "Contents",
   "toc_cell": false,
   "toc_position": {},
   "toc_section_display": true,
   "toc_window_display": false
  }
 },
 "nbformat": 4,
 "nbformat_minor": 5
}
