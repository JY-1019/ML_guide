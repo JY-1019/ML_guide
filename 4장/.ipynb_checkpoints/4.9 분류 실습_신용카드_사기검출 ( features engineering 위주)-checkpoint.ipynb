{
 "cells": [
  {
   "cell_type": "markdown",
   "id": "e73d03a8",
   "metadata": {},
   "source": [
    "해당 데이터의 columns는 개인정보보호 문제 때문에  PCA를 통해 단순화된 데이터들이다.\n",
    "PCA는 자주 쓰이는 기법으로 생각이 잘 나지 않으면 검색해서 한번 씩 공부해보길 바람."
   ]
  },
  {
   "cell_type": "code",
   "execution_count": 12,
   "id": "d1937901",
   "metadata": {
    "ExecuteTime": {
     "end_time": "2021-07-14T19:12:57.332235Z",
     "start_time": "2021-07-14T19:12:55.059270Z"
    }
   },
   "outputs": [
    {
     "name": "stdout",
     "output_type": "stream",
     "text": [
      "<class 'pandas.core.frame.DataFrame'>\n",
      "RangeIndex: 284807 entries, 0 to 284806\n",
      "Data columns (total 31 columns):\n",
      " #   Column  Non-Null Count   Dtype  \n",
      "---  ------  --------------   -----  \n",
      " 0   Time    284807 non-null  float64\n",
      " 1   V1      284807 non-null  float64\n",
      " 2   V2      284807 non-null  float64\n",
      " 3   V3      284807 non-null  float64\n",
      " 4   V4      284807 non-null  float64\n",
      " 5   V5      284807 non-null  float64\n",
      " 6   V6      284807 non-null  float64\n",
      " 7   V7      284807 non-null  float64\n",
      " 8   V8      284807 non-null  float64\n",
      " 9   V9      284807 non-null  float64\n",
      " 10  V10     284807 non-null  float64\n",
      " 11  V11     284807 non-null  float64\n",
      " 12  V12     284807 non-null  float64\n",
      " 13  V13     284807 non-null  float64\n",
      " 14  V14     284807 non-null  float64\n",
      " 15  V15     284807 non-null  float64\n",
      " 16  V16     284807 non-null  float64\n",
      " 17  V17     284807 non-null  float64\n",
      " 18  V18     284807 non-null  float64\n",
      " 19  V19     284807 non-null  float64\n",
      " 20  V20     284807 non-null  float64\n",
      " 21  V21     284807 non-null  float64\n",
      " 22  V22     284807 non-null  float64\n",
      " 23  V23     284807 non-null  float64\n",
      " 24  V24     284807 non-null  float64\n",
      " 25  V25     284807 non-null  float64\n",
      " 26  V26     284807 non-null  float64\n",
      " 27  V27     284807 non-null  float64\n",
      " 28  V28     284807 non-null  float64\n",
      " 29  Amount  284807 non-null  float64\n",
      " 30  Class   284807 non-null  int64  \n",
      "dtypes: float64(30), int64(1)\n",
      "memory usage: 67.4 MB\n"
     ]
    }
   ],
   "source": [
    "import numpy as np\n",
    "import pandas as pd\n",
    "import matplotlib.pyplot as plt\n",
    "import warnings\n",
    "warnings.filterwarnings('ignore')\n",
    "\n",
    "df = pd.read_csv('./creditcard.csv')\n",
    "df.info()"
   ]
  },
  {
   "cell_type": "code",
   "execution_count": 13,
   "id": "3cdb12dc",
   "metadata": {
    "ExecuteTime": {
     "end_time": "2021-07-14T19:12:57.551224Z",
     "start_time": "2021-07-14T19:12:57.334269Z"
    }
   },
   "outputs": [
    {
     "data": {
      "text/plain": [
       "[<matplotlib.lines.Line2D at 0x7fa3af0702e0>]"
      ]
     },
     "execution_count": 13,
     "metadata": {},
     "output_type": "execute_result"
    },
    {
     "data": {
      "image/png": "[encoded data removed]",
      "text/plain": [
       "<Figure size 576x576 with 1 Axes>"
      ]
     },
     "metadata": {
      "needs_background": "light"
     },
     "output_type": "display_data"
    }
   ],
   "source": [
    "# 데이터 분포가 함부로 -, + 이고 이미 정제된 과정을 거쳤기 때문에 PCA를 거친 데이터는 따로\n",
    "# 정제하지 않는다.\n",
    "plt.figure(figsize = (8, 8))\n",
    "plt.plot(df['V3'])"
   ]
  },
  {
   "cell_type": "code",
   "execution_count": 14,
   "id": "4a3c8211",
   "metadata": {
    "ExecuteTime": {
     "end_time": "2021-07-14T19:12:57.573210Z",
     "start_time": "2021-07-14T19:12:57.553823Z"
    }
   },
   "outputs": [
    {
     "data": {
      "text/html": [
       "<div>\n",
       "<style scoped>\n",
       "    .dataframe tbody tr th:only-of-type {\n",
       "        vertical-align: middle;\n",
       "    }\n",
       "\n",
       "    .dataframe tbody tr th {\n",
       "        vertical-align: top;\n",
       "    }\n",
       "\n",
       "    .dataframe thead th {\n",
       "        text-align: right;\n",
       "    }\n",
       "</style>\n",
       "<table border=\"1\" class=\"dataframe\">\n",
       "  <thead>\n",
       "    <tr style=\"text-align: right;\">\n",
       "      <th></th>\n",
       "      <th>Time</th>\n",
       "      <th>V1</th>\n",
       "      <th>V2</th>\n",
       "      <th>V3</th>\n",
       "      <th>V4</th>\n",
       "      <th>V5</th>\n",
       "      <th>V6</th>\n",
       "      <th>V7</th>\n",
       "      <th>V8</th>\n",
       "      <th>V9</th>\n",
       "      <th>...</th>\n",
       "      <th>V21</th>\n",
       "      <th>V22</th>\n",
       "      <th>V23</th>\n",
       "      <th>V24</th>\n",
       "      <th>V25</th>\n",
       "      <th>V26</th>\n",
       "      <th>V27</th>\n",
       "      <th>V28</th>\n",
       "      <th>Amount</th>\n",
       "      <th>Class</th>\n",
       "    </tr>\n",
       "  </thead>\n",
       "  <tbody>\n",
       "    <tr>\n",
       "      <th>0</th>\n",
       "      <td>0.0</td>\n",
       "      <td>-1.359807</td>\n",
       "      <td>-0.072781</td>\n",
       "      <td>2.536347</td>\n",
       "      <td>1.378155</td>\n",
       "      <td>-0.338321</td>\n",
       "      <td>0.462388</td>\n",
       "      <td>0.239599</td>\n",
       "      <td>0.098698</td>\n",
       "      <td>0.363787</td>\n",
       "      <td>...</td>\n",
       "      <td>-0.018307</td>\n",
       "      <td>0.277838</td>\n",
       "      <td>-0.110474</td>\n",
       "      <td>0.066928</td>\n",
       "      <td>0.128539</td>\n",
       "      <td>-0.189115</td>\n",
       "      <td>0.133558</td>\n",
       "      <td>-0.021053</td>\n",
       "      <td>149.62</td>\n",
       "      <td>0</td>\n",
       "    </tr>\n",
       "    <tr>\n",
       "      <th>1</th>\n",
       "      <td>0.0</td>\n",
       "      <td>1.191857</td>\n",
       "      <td>0.266151</td>\n",
       "      <td>0.166480</td>\n",
       "      <td>0.448154</td>\n",
       "      <td>0.060018</td>\n",
       "      <td>-0.082361</td>\n",
       "      <td>-0.078803</td>\n",
       "      <td>0.085102</td>\n",
       "      <td>-0.255425</td>\n",
       "      <td>...</td>\n",
       "      <td>-0.225775</td>\n",
       "      <td>-0.638672</td>\n",
       "      <td>0.101288</td>\n",
       "      <td>-0.339846</td>\n",
       "      <td>0.167170</td>\n",
       "      <td>0.125895</td>\n",
       "      <td>-0.008983</td>\n",
       "      <td>0.014724</td>\n",
       "      <td>2.69</td>\n",
       "      <td>0</td>\n",
       "    </tr>\n",
       "    <tr>\n",
       "      <th>2</th>\n",
       "      <td>1.0</td>\n",
       "      <td>-1.358354</td>\n",
       "      <td>-1.340163</td>\n",
       "      <td>1.773209</td>\n",
       "      <td>0.379780</td>\n",
       "      <td>-0.503198</td>\n",
       "      <td>1.800499</td>\n",
       "      <td>0.791461</td>\n",
       "      <td>0.247676</td>\n",
       "      <td>-1.514654</td>\n",
       "      <td>...</td>\n",
       "      <td>0.247998</td>\n",
       "      <td>0.771679</td>\n",
       "      <td>0.909412</td>\n",
       "      <td>-0.689281</td>\n",
       "      <td>-0.327642</td>\n",
       "      <td>-0.139097</td>\n",
       "      <td>-0.055353</td>\n",
       "      <td>-0.059752</td>\n",
       "      <td>378.66</td>\n",
       "      <td>0</td>\n",
       "    </tr>\n",
       "  </tbody>\n",
       "</table>\n",
       "<p>3 rows × 31 columns</p>\n",
       "</div>"
      ],
      "text/plain": [
       "   Time        V1        V2        V3        V4        V5        V6        V7  \\\n",
       "0   0.0 -1.359807 -0.072781  2.536347  1.378155 -0.338321  0.462388  0.239599   \n",
       "1   0.0  1.191857  0.266151  0.166480  0.448154  0.060018 -0.082361 -0.078803   \n",
       "2   1.0 -1.358354 -1.340163  1.773209  0.379780 -0.503198  1.800499  0.791461   \n",
       "\n",
       "         V8        V9  ...       V21       V22       V23       V24       V25  \\\n",
       "0  0.098698  0.363787  ... -0.018307  0.277838 -0.110474  0.066928  0.128539   \n",
       "1  0.085102 -0.255425  ... -0.225775 -0.638672  0.101288 -0.339846  0.167170   \n",
       "2  0.247676 -1.514654  ...  0.247998  0.771679  0.909412 -0.689281 -0.327642   \n",
       "\n",
       "        V26       V27       V28  Amount  Class  \n",
       "0 -0.189115  0.133558 -0.021053  149.62      0  \n",
       "1  0.125895 -0.008983  0.014724    2.69      0  \n",
       "2 -0.139097 -0.055353 -0.059752  378.66      0  \n",
       "\n",
       "[3 rows x 31 columns]"
      ]
     },
     "execution_count": 14,
     "metadata": {},
     "output_type": "execute_result"
    }
   ],
   "source": [
    "df.head(3)"
   ]
  },
  {
   "cell_type": "code",
   "execution_count": 15,
   "id": "a55b1c90",
   "metadata": {
    "ExecuteTime": {
     "end_time": "2021-07-14T19:12:57.579211Z",
     "start_time": "2021-07-14T19:12:57.575764Z"
    }
   },
   "outputs": [],
   "source": [
    "# Time은 크게 의미없는 데이터라 삭제\n",
    "def get_preprocessed_drop(df=None):\n",
    "    df_copy = df.copy()\n",
    "    df_copy.drop('Time', axis=1, inplace=True)\n",
    "    return df_copy"
   ]
  },
  {
   "cell_type": "code",
   "execution_count": 16,
   "id": "93f249bb",
   "metadata": {
    "ExecuteTime": {
     "end_time": "2021-07-14T19:12:57.584936Z",
     "start_time": "2021-07-14T19:12:57.581009Z"
    }
   },
   "outputs": [],
   "source": [
    "# Amount Standard 변환\n",
    "from sklearn.preprocessing import StandardScaler\n",
    "\n",
    "def get_preprocessed_sta(df = None):\n",
    "    df_copy = get_preprocessed_drop(df)\n",
    "    scaler = StandardScaler()\n",
    "    # 차원 reshape 주의\n",
    "    amount_n = scaler.fit_transform(df_copy['Amount'].values.reshape(-1, 1))\n",
    "    df_copy.insert(0, 'Amount_scaled', amount_n)\n",
    "    df_copy.drop('Amount', axis = 1, inplace = True)\n",
    "    return df_copy"
   ]
  },
  {
   "cell_type": "code",
   "execution_count": 17,
   "id": "e6ff446e",
   "metadata": {
    "ExecuteTime": {
     "end_time": "2021-07-14T19:12:57.591533Z",
     "start_time": "2021-07-14T19:12:57.588218Z"
    }
   },
   "outputs": [],
   "source": [
    "# 로그변환\n",
    "def get_preprocessed_log(df=None):\n",
    "    df_copy = get_preprocessed_drop(df)\n",
    "    amount_n = np.log1p(df_copy['Amount'])\n",
    "    df_copy.insert(0, 'Amount_scaled', amount_n)\n",
    "    df_copy.drop('Amount',axis = 1, inplace = True)\n",
    "    return df_copy"
   ]
  },
  {
   "cell_type": "code",
   "execution_count": 23,
   "id": "e7dccd78",
   "metadata": {
    "ExecuteTime": {
     "end_time": "2021-07-14T19:13:36.483002Z",
     "start_time": "2021-07-14T19:13:36.479345Z"
    }
   },
   "outputs": [],
   "source": [
    "from sklearn.model_selection import train_test_split\n",
    "\n",
    "def get_train_test_dataset(df = None):\n",
    "    \n",
    "    X_features = df.iloc[:, :-1]\n",
    "    y_target = df.iloc[:, -1]\n",
    "    \n",
    "    X_train, X_test, y_train, y_test = train_test_split(X_features, y_target,\n",
    "                                                       test_size = 0.3,\n",
    "                                                       random_state = 0,\n",
    "                                                       stratify = y_target)\n",
    "    return X_train, X_test, y_train, y_test"
   ]
  },
  {
   "cell_type": "code",
   "execution_count": 24,
   "id": "0ed18a9a",
   "metadata": {
    "ExecuteTime": {
     "end_time": "2021-07-14T19:13:36.882492Z",
     "start_time": "2021-07-14T19:13:36.877810Z"
    }
   },
   "outputs": [],
   "source": [
    "from sklearn.metrics import confusion_matrix, accuracy_score, precision_score\n",
    "from sklearn.metrics import recall_score, f1_score, roc_auc_score\n",
    "\n",
    "def get_clf_eval(y_test, pred = None, pred_proba = None):\n",
    "    confusion = confusion_matrix(y_test, pred)\n",
    "    accuracy = accuracy_score(y_test, pred)\n",
    "    precision = precision_score(y_test, pred)\n",
    "    recall = recall_score(y_test, pred)\n",
    "    f1 = f1_score(y_test, pred)\n",
    "    # ROC-AUC 추가\n",
    "    roc_auc = roc_auc_score(y_test, pred_proba)\n",
    "    print('오차 행렬')\n",
    "    print(confusion)\n",
    "    # ROC-AUC print 추가\n",
    "    print('정확도: {0:.4f}, 정밀도: {1:.4f}, 재현율: {2:.4f},\\\n",
    "    F1: {3:.4f}, AUC:{4:.4f}'.format(accuracy, precision, recall, f1, roc_auc))"
   ]
  },
  {
   "cell_type": "code",
   "execution_count": 28,
   "id": "84f5c3d5",
   "metadata": {
    "ExecuteTime": {
     "end_time": "2021-07-14T19:14:11.818997Z",
     "start_time": "2021-07-14T19:14:11.815869Z"
    }
   },
   "outputs": [],
   "source": [
    "def get_model_train_eval(model, ft_train=None, ft_test=None, \n",
    "                         tg_train=None, tg_test=None):\n",
    "    model.fit(ft_train, tg_train)\n",
    "    pred = model.predict(ft_test)\n",
    "    pred_proba = model.predict_proba(ft_test)[:,1]\n",
    "    get_clf_eval(tg_test, pred, pred_proba)\n",
    "    "
   ]
  },
  {
   "cell_type": "markdown",
   "id": "7e82fbbc",
   "metadata": {},
   "source": [
    "로지스틱 모델"
   ]
  },
  {
   "cell_type": "code",
   "execution_count": 29,
   "id": "3927691e",
   "metadata": {
    "ExecuteTime": {
     "end_time": "2021-07-14T19:14:12.654212Z",
     "start_time": "2021-07-14T19:14:12.651986Z"
    }
   },
   "outputs": [],
   "source": [
    "from sklearn.linear_model import LogisticRegression\n",
    "\n",
    "LR_model = LogisticRegression()"
   ]
  },
  {
   "cell_type": "code",
   "execution_count": 30,
   "id": "222a9eca",
   "metadata": {
    "ExecuteTime": {
     "end_time": "2021-07-14T19:14:14.384135Z",
     "start_time": "2021-07-14T19:14:13.043508Z"
    }
   },
   "outputs": [
    {
     "name": "stdout",
     "output_type": "stream",
     "text": [
      "오차 행렬\n",
      "[[85283    12]\n",
      " [   59    89]]\n",
      "정확도: 0.9992, 정밀도: 0.8812, 재현율: 0.6014,    F1: 0.7149, AUC:0.9727\n"
     ]
    }
   ],
   "source": [
    "# log변환\n",
    "df_log = get_preprocessed_log(df)\n",
    "X_train, X_test, y_train, y_test = get_train_test_dataset(df_log)\n",
    "get_model_train_eval(LR_model, X_train, X_test, y_train, y_test)"
   ]
  },
  {
   "cell_type": "code",
   "execution_count": 32,
   "id": "c28ad1b4",
   "metadata": {
    "ExecuteTime": {
     "end_time": "2021-07-14T19:17:13.784559Z",
     "start_time": "2021-07-14T19:17:12.272965Z"
    }
   },
   "outputs": [
    {
     "name": "stdout",
     "output_type": "stream",
     "text": [
      "오차 행렬\n",
      "[[85283    12]\n",
      " [   59    89]]\n",
      "정확도: 0.9992, 정밀도: 0.8812, 재현율: 0.6014,    F1: 0.7149, AUC:0.9727\n"
     ]
    }
   ],
   "source": [
    "# Standardscaler\n",
    "df_sta = get_preprocessed_sta(df)\n",
    "X_train, X_test, y_train, y_test = get_train_test_dataset(df_log)\n",
    "get_model_train_eval(LR_model, X_train, X_test, y_train, y_test)"
   ]
  },
  {
   "cell_type": "markdown",
   "id": "09be7495",
   "metadata": {},
   "source": [
    "LightGBM 모델"
   ]
  },
  {
   "cell_type": "code",
   "execution_count": 34,
   "id": "fa0ada9d",
   "metadata": {
    "ExecuteTime": {
     "end_time": "2021-07-14T19:18:03.670143Z",
     "start_time": "2021-07-14T19:18:03.667011Z"
    }
   },
   "outputs": [],
   "source": [
    "from lightgbm import LGBMClassifier\n",
    "\n",
    "LGBM_model = LGBMClassifier(n_estimators = 1000, num_leaves = 64, n_jobs = -1,\n",
    "                         boost_from_average = False)"
   ]
  },
  {
   "cell_type": "code",
   "execution_count": 35,
   "id": "4be006a2",
   "metadata": {
    "ExecuteTime": {
     "end_time": "2021-07-14T19:18:13.417397Z",
     "start_time": "2021-07-14T19:18:04.651958Z"
    }
   },
   "outputs": [
    {
     "name": "stdout",
     "output_type": "stream",
     "text": [
      "오차 행렬\n",
      "[[85290     5]\n",
      " [   35   113]]\n",
      "정확도: 0.9995, 정밀도: 0.9576, 재현율: 0.7635,    F1: 0.8496, AUC:0.9796\n"
     ]
    }
   ],
   "source": [
    "# log변환\n",
    "df_log = get_preprocessed_log(df)\n",
    "X_train, X_test, y_train, y_test = get_train_test_dataset(df_log)\n",
    "get_model_train_eval(LGBM_model, X_train, X_test, y_train, y_test)"
   ]
  },
  {
   "cell_type": "code",
   "execution_count": 37,
   "id": "093ee5f3",
   "metadata": {
    "ExecuteTime": {
     "end_time": "2021-07-14T19:19:26.516027Z",
     "start_time": "2021-07-14T19:19:18.098322Z"
    }
   },
   "outputs": [
    {
     "name": "stdout",
     "output_type": "stream",
     "text": [
      "오차 행렬\n",
      "[[85290     5]\n",
      " [   35   113]]\n",
      "정확도: 0.9995, 정밀도: 0.9576, 재현율: 0.7635,    F1: 0.8496, AUC:0.9796\n"
     ]
    }
   ],
   "source": [
    "# Standardscaler\n",
    "df_sta = get_preprocessed_sta(df)\n",
    "X_train, X_test, y_train, y_test = get_train_test_dataset(df_log)\n",
    "get_model_train_eval(LGBM_model, X_train, X_test, y_train, y_test)"
   ]
  },
  {
   "cell_type": "markdown",
   "id": "c4316f0a",
   "metadata": {},
   "source": [
    "이상치 데이터 제거 후 모델 학습/예측/평가"
   ]
  },
  {
   "cell_type": "code",
   "execution_count": 40,
   "id": "44e4e7dd",
   "metadata": {
    "ExecuteTime": {
     "end_time": "2021-07-15T13:36:03.571409Z",
     "start_time": "2021-07-15T13:36:02.190733Z"
    }
   },
   "outputs": [
    {
     "data": {
      "text/plain": [
       "<AxesSubplot:>"
      ]
     },
     "execution_count": 40,
     "metadata": {},
     "output_type": "execute_result"
    },
    {
     "data": {
      "image/png": "[encoded data removed]",
      "text/plain": [
       "<Figure size 648x648 with 2 Axes>"
      ]
     },
     "metadata": {
      "needs_background": "light"
     },
     "output_type": "display_data"
    }
   ],
   "source": [
    "import seaborn as sns\n",
    "plt.figure(figsize = (9, 9))\n",
    "corr = df.corr()\n",
    "sns.heatmap(corr, cmap = 'RdBu')"
   ]
  },
  {
   "cell_type": "markdown",
   "id": "efc2b482",
   "metadata": {},
   "source": [
    "Outlier 제거"
   ]
  },
  {
   "cell_type": "code",
   "execution_count": 45,
   "id": "0ef135ad",
   "metadata": {
    "ExecuteTime": {
     "end_time": "2021-07-15T17:29:26.314366Z",
     "start_time": "2021-07-15T17:29:26.309973Z"
    }
   },
   "outputs": [],
   "source": [
    "def get_outlier(df = None, column = None, weight = 1.5):\n",
    "    fraud_df = df[df['Class'] == 1][column]\n",
    "    quantile_25 = np.percentile(fraud_df.values, 25)\n",
    "    quantile_75 = np.percentile(fraud_df.values, 75)\n",
    "    iqr = quantile_75 - quantile_25\n",
    "    iqr_weight = iqr * weight\n",
    "    \n",
    "    lowest_value = quantile_25 - iqr_weight\n",
    "    highest_value = quantile_75 + iqr_weight\n",
    "    \n",
    "    outliers_index = fraud_df[(fraud_df > highest_value) |\\\n",
    "                              (fraud_df < lowest_value) ].index\n",
    "    df.drop(outliers_index, axis =0, inplace = True)\n",
    "    return df"
   ]
  },
  {
   "cell_type": "markdown",
   "id": "f52ee041",
   "metadata": {},
   "source": [
    "outlier 제거하고 log data"
   ]
  },
  {
   "cell_type": "code",
   "execution_count": 46,
   "id": "bbe07a55",
   "metadata": {
    "ExecuteTime": {
     "end_time": "2021-07-15T17:29:27.630182Z",
     "start_time": "2021-07-15T17:29:27.165403Z"
    }
   },
   "outputs": [],
   "source": [
    "df_log = get_preprocessed_log(df)\n",
    "df_log = get_outlier(df = df_log, column = 'V14', weight = 1.5)\n",
    "X_train, X_test, y_train, y_test = get_train_test_dataset(df_log)"
   ]
  },
  {
   "cell_type": "code",
   "execution_count": 49,
   "id": "58debfcf",
   "metadata": {
    "ExecuteTime": {
     "end_time": "2021-07-15T17:31:04.234118Z",
     "start_time": "2021-07-15T17:30:50.668436Z"
    }
   },
   "outputs": [
    {
     "name": "stdout",
     "output_type": "stream",
     "text": [
      "오차 행렬\n",
      "[[85281    14]\n",
      " [   48    98]]\n",
      "정확도: 0.9993, 정밀도: 0.8750, 재현율: 0.6712,    F1: 0.7597, AUC:0.9743\n",
      "오차 행렬\n",
      "[[85290     5]\n",
      " [   25   121]]\n",
      "정확도: 0.9996, 정밀도: 0.9603, 재현율: 0.8288,    F1: 0.8897, AUC:0.9780\n"
     ]
    }
   ],
   "source": [
    "get_model_train_eval(LR_model, ft_train=X_train, ft_test=X_test, tg_train=y_train, tg_test=y_test)\n",
    "get_model_train_eval(LGBM_model, ft_train=X_train, ft_test=X_test, tg_train=y_train, tg_test=y_test)"
   ]
  },
  {
   "cell_type": "markdown",
   "id": "bdcb961d",
   "metadata": {
    "ExecuteTime": {
     "end_time": "2021-07-15T17:44:50.080695Z",
     "start_time": "2021-07-15T17:44:50.076086Z"
    }
   },
   "source": [
    "outlier 제거하고 standarascaler"
   ]
  },
  {
   "cell_type": "code",
   "execution_count": 54,
   "id": "1185ac38",
   "metadata": {
    "ExecuteTime": {
     "end_time": "2021-07-15T17:33:56.326227Z",
     "start_time": "2021-07-15T17:33:55.947810Z"
    }
   },
   "outputs": [],
   "source": [
    "df_sta = get_preprocessed_sta(df)\n",
    "df_sta = get_outlier(df = df_sta, column = 'V14', weight = 1.5)\n",
    "X_train, X_test, y_train, y_test = get_train_test_dataset(df_sta)"
   ]
  },
  {
   "cell_type": "code",
   "execution_count": 55,
   "id": "a92931fd",
   "metadata": {
    "ExecuteTime": {
     "end_time": "2021-07-15T17:34:18.749858Z",
     "start_time": "2021-07-15T17:34:06.223794Z"
    }
   },
   "outputs": [
    {
     "name": "stdout",
     "output_type": "stream",
     "text": [
      "오차 행렬\n",
      "[[85279    16]\n",
      " [   48    98]]\n",
      "정확도: 0.9993, 정밀도: 0.8596, 재현율: 0.6712,    F1: 0.7538, AUC:0.9737\n",
      "오차 행렬\n",
      "[[85291     4]\n",
      " [   25   121]]\n",
      "정확도: 0.9997, 정밀도: 0.9680, 재현율: 0.8288,    F1: 0.8930, AUC:0.9790\n"
     ]
    }
   ],
   "source": [
    "get_model_train_eval(LR_model, ft_train=X_train, ft_test=X_test, tg_train=y_train, tg_test=y_test)\n",
    "get_model_train_eval(LGBM_model, ft_train=X_train, ft_test=X_test, tg_train=y_train, tg_test=y_test)"
   ]
  },
  {
   "cell_type": "code",
   "execution_count": 63,
   "id": "7bbb56bc",
   "metadata": {
    "ExecuteTime": {
     "end_time": "2021-07-15T17:41:45.726377Z",
     "start_time": "2021-07-15T17:41:45.278920Z"
    }
   },
   "outputs": [
    {
     "name": "stdout",
     "output_type": "stream",
     "text": [
      "0    199020\n",
      "1       342\n",
      "Name: Class, dtype: int64\n",
      "0    199020\n",
      "1    199020\n",
      "Name: Class, dtype: int64\n"
     ]
    }
   ],
   "source": [
    "from imblearn.over_sampling import SMOTE\n",
    "\n",
    "smote = SMOTE(random_state =0)\n",
    "X_train_over, y_train_over = smote.fit_resample(X_train, y_train)\n",
    "print(pd.Series(y_train).value_counts())\n",
    "print(pd.Series(y_train_over).value_counts())"
   ]
  },
  {
   "cell_type": "markdown",
   "id": "412cc3a0",
   "metadata": {},
   "source": [
    "SMOTE 변환하고 log 변환"
   ]
  },
  {
   "cell_type": "code",
   "execution_count": 64,
   "id": "e0eaae1b",
   "metadata": {
    "ExecuteTime": {
     "end_time": "2021-07-15T17:42:27.801133Z",
     "start_time": "2021-07-15T17:42:27.366032Z"
    }
   },
   "outputs": [],
   "source": [
    "df_log = get_preprocessed_log(df)\n",
    "df_log = get_outlier(df = df_log, column = 'V14', weight = 1.5)\n",
    "X_train, X_test, y_train, y_test = get_train_test_dataset(df_log)"
   ]
  },
  {
   "cell_type": "code",
   "execution_count": 65,
   "id": "69f7eaa4",
   "metadata": {
    "ExecuteTime": {
     "end_time": "2021-07-15T17:43:33.212487Z",
     "start_time": "2021-07-15T17:42:57.040764Z"
    }
   },
   "outputs": [
    {
     "name": "stdout",
     "output_type": "stream",
     "text": [
      "오차 행렬\n",
      "[[16795 68500]\n",
      " [    2   144]]\n",
      "정확도: 0.1983, 정밀도: 0.0021, 재현율: 0.9863,    F1: 0.0042, AUC:0.9453\n",
      "오차 행렬\n",
      "[[85271    24]\n",
      " [   24   122]]\n",
      "정확도: 0.9994, 정밀도: 0.8356, 재현율: 0.8356,    F1: 0.8356, AUC:0.9837\n"
     ]
    }
   ],
   "source": [
    "get_model_train_eval(LR_model, ft_train=X_train_over, ft_test=X_test, tg_train=y_train_over, tg_test=y_test)\n",
    "get_model_train_eval(LGBM_model, ft_train=X_train_over, ft_test=X_test, tg_train=y_train_over, tg_test=y_test)"
   ]
  },
  {
   "cell_type": "markdown",
   "id": "0ac5604d",
   "metadata": {
    "ExecuteTime": {
     "end_time": "2021-07-15T17:47:07.863315Z",
     "start_time": "2021-07-15T17:47:07.859536Z"
    }
   },
   "source": [
    "SMOTE 변환하고 standard scaler"
   ]
  },
  {
   "cell_type": "code",
   "execution_count": 69,
   "id": "4eec5302",
   "metadata": {
    "ExecuteTime": {
     "end_time": "2021-07-15T17:47:40.698253Z",
     "start_time": "2021-07-15T17:47:40.233260Z"
    }
   },
   "outputs": [],
   "source": [
    "df_sta = get_preprocessed_sta(df)\n",
    "df_sta = get_outlier(df = df_sta, column = 'V14', weight = 1.5)\n",
    "X_train, X_test, y_train, y_test = get_train_test_dataset(df_sta)"
   ]
  },
  {
   "cell_type": "code",
   "execution_count": 70,
   "id": "1feb0baa",
   "metadata": {
    "ExecuteTime": {
     "end_time": "2021-07-15T17:48:17.196646Z",
     "start_time": "2021-07-15T17:47:47.633357Z"
    }
   },
   "outputs": [
    {
     "name": "stdout",
     "output_type": "stream",
     "text": [
      "오차 행렬\n",
      "[[82936  2359]\n",
      " [   11   135]]\n",
      "정확도: 0.9723, 정밀도: 0.0541, 재현율: 0.9247,    F1: 0.1023, AUC:0.9742\n",
      "오차 행렬\n",
      "[[85283    12]\n",
      " [   25   121]]\n",
      "정확도: 0.9996, 정밀도: 0.9098, 재현율: 0.8288,    F1: 0.8674, AUC:0.9739\n"
     ]
    }
   ],
   "source": [
    "get_model_train_eval(LR_model, ft_train=X_train_over, ft_test=X_test, tg_train=y_train_over, tg_test=y_test)\n",
    "get_model_train_eval(LGBM_model, ft_train=X_train_over, ft_test=X_test, tg_train=y_train_over, tg_test=y_test)"
   ]
  },
  {
   "cell_type": "code",
   "execution_count": 71,
   "id": "50671d70",
   "metadata": {
    "ExecuteTime": {
     "end_time": "2021-07-15T17:50:20.996388Z",
     "start_time": "2021-07-15T17:50:20.968710Z"
    }
   },
   "outputs": [],
   "source": [
    "import matplotlib.pyplot as plt\n",
    "import matplotlib.ticker as ticker\n",
    "from sklearn.metrics import precision_recall_curve\n",
    "%matplotlib inline\n",
    "\n",
    "def precision_recall_curve_plot(y_test , pred_proba_c1):\n",
    "    # threshold ndarray와 이 threshold에 따른 정밀도, 재현율 ndarray 추출. \n",
    "    precisions, recalls, thresholds = precision_recall_curve( y_test, pred_proba_c1)\n",
    "    \n",
    "    # X축을 threshold값으로, Y축은 정밀도, 재현율 값으로 각각 Plot 수행. 정밀도는 점선으로 표시\n",
    "    plt.figure(figsize=(8,6))\n",
    "    threshold_boundary = thresholds.shape[0]\n",
    "    plt.plot(thresholds, precisions[0:threshold_boundary], linestyle='--', label='precision')\n",
    "    plt.plot(thresholds, recalls[0:threshold_boundary],label='recall')\n",
    "    \n",
    "    # threshold 값 X 축의 Scale을 0.1 단위로 변경\n",
    "    start, end = plt.xlim()\n",
    "    plt.xticks(np.round(np.arange(start, end, 0.1),2))\n",
    "    \n",
    "    # x축, y축 label과 legend, 그리고 grid 설정\n",
    "    plt.xlabel('Threshold value'); plt.ylabel('Precision and Recall value')\n",
    "    plt.legend(); plt.grid()\n",
    "    plt.show()"
   ]
  },
  {
   "cell_type": "code",
   "execution_count": 73,
   "id": "a373032b",
   "metadata": {
    "ExecuteTime": {
     "end_time": "2021-07-15T17:50:46.587005Z",
     "start_time": "2021-07-15T17:50:46.248376Z"
    }
   },
   "outputs": [
    {
     "data": {
      "image/png": "[encoded data removed]",
      "text/plain": [
       "<Figure size 576x432 with 1 Axes>"
      ]
     },
     "metadata": {
      "needs_background": "light"
     },
     "output_type": "display_data"
    }
   ],
   "source": [
    "precision_recall_curve_plot( y_test, LR_model.predict_proba(X_test)[:, 1] )"
   ]
  },
  {
   "cell_type": "code",
   "execution_count": null,
   "id": "f02e280b",
   "metadata": {},
   "outputs": [],
   "source": []
  }
 ],
 "metadata": {
  "kernelspec": {
   "display_name": "Python 3",
   "language": "python",
   "name": "python3"
  },
  "language_info": {
   "codemirror_mode": {
    "name": "ipython",
    "version": 3
   },
   "file_extension": ".py",
   "mimetype": "text/x-python",
   "name": "python",
   "nbconvert_exporter": "python",
   "pygments_lexer": "ipython3",
   "version": "3.8.8"
  },
  "toc": {
   "base_numbering": 1,
   "nav_menu": {},
   "number_sections": true,
   "sideBar": true,
   "skip_h1_title": false,
   "title_cell": "Table of Contents",
   "title_sidebar": "Contents",
   "toc_cell": false,
   "toc_position": {},
   "toc_section_display": true,
   "toc_window_display": false
  }
 },
 "nbformat": 4,
 "nbformat_minor": 5
}
